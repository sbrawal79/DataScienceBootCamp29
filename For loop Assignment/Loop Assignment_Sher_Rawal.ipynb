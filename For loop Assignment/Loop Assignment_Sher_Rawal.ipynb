{
  "nbformat": 4,
  "nbformat_minor": 0,
  "metadata": {
    "colab": {
      "provenance": []
    },
    "kernelspec": {
      "name": "python3",
      "display_name": "Python 3"
    },
    "language_info": {
      "name": "python"
    }
  },
  "cells": [
    {
      "cell_type": "markdown",
      "source": [
        "# Assignment"
      ],
      "metadata": {
        "id": "L3mkhiXYLm08"
      }
    },
    {
      "cell_type": "code",
      "source": [
        "# 1 Swap two numbers using 3rd variable\n",
        "def swap_num(x, y):\n",
        "    print(\"Original numbers: x =\", x, \"y =\", y)\n",
        "    var3 = x\n",
        "    x = y\n",
        "    y = var3\n",
        "    print(\"After swapping: x =\", x, \"y =\", y)\n",
        "swap_num(7, 5)\n"
      ],
      "metadata": {
        "colab": {
          "base_uri": "https://localhost:8080/"
        },
        "id": "tlAHxXKTLpUr",
        "outputId": "aa3726a1-22b7-4c7e-f0ca-0e662b8f1ac9"
      },
      "execution_count": 12,
      "outputs": [
        {
          "output_type": "stream",
          "name": "stdout",
          "text": [
            "Original numbers: x = 7 y = 5\n",
            "After swapping: x = 5 y = 7\n"
          ]
        }
      ]
    },
    {
      "cell_type": "code",
      "source": [
        "# 2 Swap two numbers without using 3rd variable\n",
        "def swap_num(x, y):\n",
        "    print(\"Original numbers: x =\", x, \"y =\", y)\n",
        "    x = x + y\n",
        "    y = x - y\n",
        "    x = x - y\n",
        "    print(\"After swapping: x =\", x, \"y =\", y)\n",
        "swap_num(7, 5)\n"
      ],
      "metadata": {
        "colab": {
          "base_uri": "https://localhost:8080/"
        },
        "id": "7Mm5bVFFODIs",
        "outputId": "53f103c4-bc84-4693-94bc-09de516b85dd"
      },
      "execution_count": 13,
      "outputs": [
        {
          "output_type": "stream",
          "name": "stdout",
          "text": [
            "Original numbers: x = 7 y = 5\n",
            "After swapping: x = 5 y = 7\n"
          ]
        }
      ]
    },
    {
      "cell_type": "code",
      "source": [
        "# 3 Remove duplicate elements from a list without converting to tuple"
      ],
      "metadata": {
        "id": "xDT7yzkQUry2"
      },
      "execution_count": null,
      "outputs": []
    },
    {
      "cell_type": "code",
      "source": [
        "def remove_duplicates(lst):\n",
        "    list = []\n",
        "    for k in lst:\n",
        "        if k not in list:\n",
        "            list.append(k)\n",
        "    return list\n",
        "\n",
        "First_lst1 = [1, 2, 3, 2, 4, 1, 5, 6, 5]\n",
        "result = remove_duplicates(First_lst1)\n",
        "print(\"Original list:\", First_lst1)\n",
        "print(\"List after removing duplicates: \", result)\n"
      ],
      "metadata": {
        "colab": {
          "base_uri": "https://localhost:8080/"
        },
        "id": "P2PG3wcnJ9wo",
        "outputId": "71db08e1-9e47-426d-cfab-73d97b54159c"
      },
      "execution_count": 7,
      "outputs": [
        {
          "output_type": "stream",
          "name": "stdout",
          "text": [
            "Original list: [1, 2, 3, 2, 4, 1, 5, 6, 5]\n",
            "List after removing duplicates:  [1, 2, 3, 4, 5, 6]\n"
          ]
        }
      ]
    },
    {
      "cell_type": "code",
      "source": [
        "# 4 Write a program to find greatest common divisor (GCD) or highest common factor (HCF) of given two numbers\n",
        "def gcd(a, b):\n",
        "    while b != 0:\n",
        "        a, b = b, a % b\n",
        "    return a\n",
        "N1 = int(input(\"Enter the first number: \"))\n",
        "N2 = int(input(\"Enter the second number: \"))\n",
        "\n",
        "result = gcd(N1, N2)\n",
        "print(\"The GCD/HCF of\", N1, \"and\", N2, \"is:\", result)\n"
      ],
      "metadata": {
        "colab": {
          "base_uri": "https://localhost:8080/"
        },
        "id": "Peamq2ZpMAdk",
        "outputId": "8b030136-157c-499b-9dac-3efc032b4db6"
      },
      "execution_count": 32,
      "outputs": [
        {
          "output_type": "stream",
          "name": "stdout",
          "text": [
            "Enter the first number: 26\n",
            "Enter the second number: 8\n",
            "The GCD/HCF of 26 and 8 is: 2\n"
          ]
        }
      ]
    },
    {
      "cell_type": "code",
      "source": [
        "# 5 Write a loop to print following series 10, 20, 30,  …………………, 300\n",
        "n=300\n",
        "for i in range(10, n+1, 10):\n",
        "    print(i, end=\" \")\n"
      ],
      "metadata": {
        "colab": {
          "base_uri": "https://localhost:8080/"
        },
        "id": "vmrkfSMwO47k",
        "outputId": "dc62ccf6-2155-4965-c89c-de6e9905d0b5"
      },
      "execution_count": 33,
      "outputs": [
        {
          "output_type": "stream",
          "name": "stdout",
          "text": [
            "10 20 30 40 50 60 70 80 90 100 110 120 130 140 150 160 170 180 190 200 210 220 230 240 250 260 270 280 290 300 "
          ]
        }
      ]
    },
    {
      "cell_type": "code",
      "source": [
        "# 6 Write a loop to print following series 105,98,91,………………………,7\n",
        "n=7\n",
        "for i in range(105, n-1, -7):\n",
        "  print(i, end= \" \")"
      ],
      "metadata": {
        "colab": {
          "base_uri": "https://localhost:8080/"
        },
        "id": "s7ecfsZlQCG4",
        "outputId": "ab658784-0a89-428e-f146-e2bb67936f98"
      },
      "execution_count": 40,
      "outputs": [
        {
          "output_type": "stream",
          "name": "stdout",
          "text": [
            "105 98 91 84 77 70 63 56 49 42 35 28 21 14 7 "
          ]
        }
      ]
    },
    {
      "cell_type": "code",
      "source": [
        "#7  Write a program to print number names of digits in a number like SAMPLE INPUT 231 \t\tSAMPLE OUTPUT TWO THREE ONE\n",
        "def number_names(number):\n",
        "    digit_names = {'0': 'ZERO', '1': 'ONE', '2': 'TWO', '3': 'THREE', '4': 'FOUR', '5': 'FIVE', '6': 'SIX', '7': 'SEVEN', '8': 'EIGHT', '9': 'NINE'}\n",
        "    number_str = str(number)\n",
        "    for k in number_str:\n",
        "        print(digit_names[k], end=' ')\n",
        "\n",
        "number = 2017\n",
        "print(\"Sample Input:\", number)\n",
        "print(\"Sample Output:\", end=\" \")\n",
        "number_names(number)"
      ],
      "metadata": {
        "colab": {
          "base_uri": "https://localhost:8080/"
        },
        "id": "7lVTL1rUTvaK",
        "outputId": "54743cb6-381d-41de-efe9-f45dc2764f11"
      },
      "execution_count": 5,
      "outputs": [
        {
          "output_type": "stream",
          "name": "stdout",
          "text": [
            "Sample Input: 2017\n",
            "Sample Output: TWO ZERO ONE SEVEN "
          ]
        }
      ]
    },
    {
      "cell_type": "code",
      "source": [
        "# 8 Write a program to print Fibonacci series till n terms take n =50\n",
        "def fibo(n):\n",
        "  a, b = 0, 1\n",
        "  print(a, b, end = ' ')\n",
        "  for i in range(n-2):\n",
        "      c  = a + b\n",
        "      print(c, end = ' ')\n",
        "      a = b\n",
        "      b = c\n",
        "fibo(50)"
      ],
      "metadata": {
        "colab": {
          "base_uri": "https://localhost:8080/"
        },
        "id": "srvVX5nCUF-5",
        "outputId": "ec535da1-5ad4-4e2d-d49c-6a39732575ec"
      },
      "execution_count": 49,
      "outputs": [
        {
          "output_type": "stream",
          "name": "stdout",
          "text": [
            "0 1 1 2 3 5 8 13 21 34 55 89 144 233 377 610 987 1597 2584 4181 6765 10946 17711 28657 46368 75025 121393 196418 317811 514229 832040 1346269 2178309 3524578 5702887 9227465 14930352 24157817 39088169 63245986 102334155 165580141 267914296 433494437 701408733 1134903170 1836311903 2971215073 4807526976 7778742049 "
          ]
        }
      ]
    },
    {
      "cell_type": "code",
      "source": [
        "# 9 Write a program to print factorial of a number\n",
        "def fac(n):\n",
        "    if n == 0:\n",
        "        return 1\n",
        "    else:\n",
        "        return n * fac(n - 1)\n",
        "number = int(input(\"Enter a number: \"))\n",
        "factorial = fac(number)\n",
        "print(\"The factorial of\", number, \"is:\", factorial)\n"
      ],
      "metadata": {
        "colab": {
          "base_uri": "https://localhost:8080/"
        },
        "id": "I8FY-b-79f3O",
        "outputId": "9d3bb2e4-7e13-44b2-f6e9-412598d3cd32"
      },
      "execution_count": 18,
      "outputs": [
        {
          "output_type": "stream",
          "name": "stdout",
          "text": [
            "Enter a number: 5\n",
            "The factorial of 5 is: 120\n"
          ]
        }
      ]
    },
    {
      "cell_type": "code",
      "source": [
        "# 10 Write a simple program to check if a number is Armstrong or not\n",
        "number = int(input(\"Enter a number: \"))\n",
        "num_str = str(number)\n",
        "\n",
        "num_digits = len(num_str)\n",
        "armstrong_sum = sum(int(k) ** num_digits for k in num_str)\n",
        "\n",
        "if armstrong_sum == number:\n",
        "    print(number, \"is an Armstrong number.\")\n",
        "else:\n",
        "    print(number, \"is not an Armstrong number.\")\n"
      ],
      "metadata": {
        "colab": {
          "base_uri": "https://localhost:8080/"
        },
        "id": "DRxqi2hNlql6",
        "outputId": "8bb76196-deaa-4aad-9d0b-2e1e349618ac"
      },
      "execution_count": 71,
      "outputs": [
        {
          "output_type": "stream",
          "name": "stdout",
          "text": [
            "Enter a number: 371\n",
            "371 is an Armstrong number.\n"
          ]
        }
      ]
    },
    {
      "cell_type": "code",
      "source": [
        "# 11 Write a program to convert binary to decimal\n",
        "print (\"'binary'     'decimal'    \")\n",
        "for i in range(0,5):\n",
        "  print (bin(i),'         ',i,'          '   )\n",
        "\n",
        "# another way\n",
        "binary = input(\"Enter a binary number: \")\n",
        "decimal = int(binary, 2)\n",
        "print(\"The conversion of binary number \", binary, \"to decimal is:\", decimal)\n",
        "\n"
      ],
      "metadata": {
        "colab": {
          "base_uri": "https://localhost:8080/"
        },
        "id": "5SIeL93qcoks",
        "outputId": "b4b390fd-7f72-4f57-96c5-d80334bac295"
      },
      "execution_count": 72,
      "outputs": [
        {
          "output_type": "stream",
          "name": "stdout",
          "text": [
            "'binary'     'decimal'    \n",
            "0b0           0           \n",
            "0b1           1           \n",
            "0b10           2           \n",
            "0b11           3           \n",
            "0b100           4           \n",
            "Enter a binary number: 0b100\n",
            "The conversion of binary number  0b100 to decimal is: 4\n"
          ]
        }
      ]
    },
    {
      "cell_type": "code",
      "source": [
        "# 12 Write a program to convert decimal to binary\n",
        "decimal = int(input(\"Enter a decimal number: \"))\n",
        "binary = bin(decimal)\n",
        "print(\"The conversion of decimal number \", decimal, \"to binary is:\", binary)"
      ],
      "metadata": {
        "colab": {
          "base_uri": "https://localhost:8080/"
        },
        "id": "eiOyDE4mhF3_",
        "outputId": "12c69636-6ec6-4a13-9131-a551f567d039"
      },
      "execution_count": 78,
      "outputs": [
        {
          "output_type": "stream",
          "name": "stdout",
          "text": [
            "Enter a decimal number: 4\n",
            "The conversion of decimal number  4 to binary is: 0b100\n"
          ]
        }
      ]
    },
    {
      "cell_type": "code",
      "source": [
        "# 13 Write a program to check if number is palindrome on not (Without converting to string)\n",
        "def is_palindrome(number):\n",
        "    original = number\n",
        "    reversed_num = 0\n",
        "\n",
        "    while number > 0:\n",
        "        digit = number % 10\n",
        "        reversed_num = (reversed_num * 10) + digit\n",
        "        number = number // 10\n",
        "\n",
        "    if original == reversed_num:\n",
        "        return True\n",
        "    else:\n",
        "        return False\n",
        "\n",
        "number = int(input(\"Enter a number: \"))\n",
        "\n",
        "if is_palindrome(number):\n",
        "    print(number, \"is a palindrome.\")\n",
        "else:\n",
        "    print(number, \"is not a palindrome.\")"
      ],
      "metadata": {
        "colab": {
          "base_uri": "https://localhost:8080/"
        },
        "id": "652Sn2jnqpLa",
        "outputId": "5e3e781b-eff2-49d5-be10-4ea3651c12d9"
      },
      "execution_count": 83,
      "outputs": [
        {
          "output_type": "stream",
          "name": "stdout",
          "text": [
            "Enter a number: 12321\n",
            "12321 is a palindrome.\n"
          ]
        }
      ]
    },
    {
      "cell_type": "code",
      "source": [
        "# 14 Write a program to print all numbers which are divisible by 13 but not by 3 between 100 and 500\n",
        "def divisable_numbers():\n",
        "    for k in range(100, 501):\n",
        "        if k % 13 == 0 and k % 3 != 0:\n",
        "            print(k)\n",
        "\n",
        "divisable_numbers()"
      ],
      "metadata": {
        "colab": {
          "base_uri": "https://localhost:8080/"
        },
        "id": "I-JfuFD_tp3t",
        "outputId": "98a3af45-7a37-43d8-dde3-9ea8525e033d"
      },
      "execution_count": 97,
      "outputs": [
        {
          "output_type": "stream",
          "name": "stdout",
          "text": [
            "104\n",
            "130\n",
            "143\n",
            "169\n",
            "182\n",
            "208\n",
            "221\n",
            "247\n",
            "260\n",
            "286\n",
            "299\n",
            "325\n",
            "338\n",
            "364\n",
            "377\n",
            "403\n",
            "416\n",
            "442\n",
            "455\n",
            "481\n",
            "494\n"
          ]
        }
      ]
    },
    {
      "cell_type": "code",
      "source": [
        "# 15 Write a Python program to convert temperatures to and from Celsius and Fahrenheit.\n",
        "def celsius_to_fahrenheit(celsius):\n",
        "    fahrenheit = (celsius * 9/5) + 32\n",
        "    return fahrenheit\n",
        "\n",
        "def fahrenheit_to_celsius(fahrenheit):\n",
        "    celsius = (fahrenheit - 32) * 5/9\n",
        "    return celsius\n",
        "\n",
        "# Get input from the user\n",
        "temperature = float(input(\"Enter the temperature: \"))\n",
        "unit = input(\"Enter the unit C or F): \")\n",
        "\n",
        "if unit.lower() == 'c':\n",
        "    fahrenheit = celsius_to_fahrenheit(temperature)\n",
        "    print(temperature, \"Celsius is equal to\", fahrenheit, \"Fahrenheit.\")\n",
        "elif unit.lower() == 'f':\n",
        "    celsius = fahrenheit_to_celsius(temperature)\n",
        "    print(temperature, \"Fahrenheit is equal to\", celsius, \"Celsius.\")\n",
        "else:\n",
        "    print(\"Invalid unit. Please enter 'C' for Celsius or 'F' for Fahrenheit.\")\n"
      ],
      "metadata": {
        "colab": {
          "base_uri": "https://localhost:8080/"
        },
        "id": "ySIUf9fmx1MW",
        "outputId": "e31c8e87-b306-4cfd-8594-0c2cb903ea30"
      },
      "execution_count": 102,
      "outputs": [
        {
          "output_type": "stream",
          "name": "stdout",
          "text": [
            "Enter the temperature: 22.3\n",
            "Enter the unit C or F): c\n",
            "22.3 Celsius is equal to 72.14 Fahrenheit.\n"
          ]
        }
      ]
    },
    {
      "cell_type": "code",
      "source": [
        "# 16 Write a Python program that takes two digits m (row) and n (column) as input and generates a two-dimensional array. The element value in the i-th row and j-th column of the array should be i*j. else it will be 0\n",
        "def generate_array(a, b):\n",
        "    array = [[0] * b for _ in range(a)]\n",
        "    for i in range(1, a):\n",
        "        for j in range(1, b):\n",
        "            array[i][j] = i * j\n",
        "    return array\n",
        "\n",
        "a = int(input(\"Enter no. of rows (a): \"))\n",
        "b = int(input(\"Enter no. of columns (b): \"))\n",
        "\n",
        "result_array = generate_array(a, b)\n",
        "\n",
        "for row in result_array:\n",
        "    print(row)\n"
      ],
      "metadata": {
        "colab": {
          "base_uri": "https://localhost:8080/"
        },
        "id": "l7A3QBt3-G82",
        "outputId": "c7da46f7-a0ad-49a0-eab4-afb45a143e9b"
      },
      "execution_count": 116,
      "outputs": [
        {
          "output_type": "stream",
          "name": "stdout",
          "text": [
            "Enter no. of rows (a): 2\n",
            "Enter no. of columns (b): 3\n",
            "[0, 0, 0]\n",
            "[0, 1, 2]\n"
          ]
        }
      ]
    },
    {
      "cell_type": "code",
      "source": [
        "# 17. Write a Python program that accepts a string and calculates the number of digits and letters.\n",
        "def count_letters_digits(string):\n",
        "    letters = 0\n",
        "    digits = 0\n",
        "\n",
        "    for char in string:\n",
        "        if char.isdigit():\n",
        "            letters += 1 \n",
        "        elif char.isalpha():\n",
        "            digits += 1\n",
        "\n",
        "    return digits, letters\n",
        "\n",
        "string = input(\"Enter a string: \")\n",
        "\n",
        "letter_count, digit_count = count_letters_digits(string)\n",
        "\n",
        "print(\"No. of letters :\", letter_count)\n",
        "print(\"No. of digits:\", digit_count)\n"
      ],
      "metadata": {
        "colab": {
          "base_uri": "https://localhost:8080/"
        },
        "id": "i8rK-PR167ei",
        "outputId": "ebff06cd-11cf-4a8c-e9b4-123316be9178"
      },
      "execution_count": 125,
      "outputs": [
        {
          "output_type": "stream",
          "name": "stdout",
          "text": [
            "Enter a string: python 3.2\n",
            "No. of letters : 6\n",
            "No. of digits: 2\n"
          ]
        }
      ]
    },
    {
      "cell_type": "code",
      "source": [
        "# 18. Print all possible combination for a string or a word # Sample input “ABC” Out put BAC, CAB, CBA, ACB, BCA\n",
        "import itertools\n",
        "\n",
        "s = \"ABC\"\n",
        "\n",
        "s_sorted = sorted(s)\n",
        "\n",
        "permutations = itertools.permutations(s_sorted)\n",
        "\n",
        "for i in permutations:\n",
        "    print(''.join(i)) "
      ],
      "metadata": {
        "colab": {
          "base_uri": "https://localhost:8080/"
        },
        "id": "N4nRmqEVF7Ge",
        "outputId": "833a398a-6a09-4acc-b67d-d194b4d8b9dd"
      },
      "execution_count": 14,
      "outputs": [
        {
          "output_type": "stream",
          "name": "stdout",
          "text": [
            "ABC\n",
            "ACB\n",
            "BAC\n",
            "BCA\n",
            "CAB\n",
            "CBA\n"
          ]
        }
      ]
    },
    {
      "cell_type": "code",
      "source": [
        "#19. Write a Python program to check if a triangle is equilateral, isosceles or scalene. Take 3 inputs for each side\n",
        "def triangle(a, b, c):\n",
        "    if a == b == c:\n",
        "        return \"Equilateral\"\n",
        "    elif a == b or b == c or a == c:\n",
        "        return \"Isosceles\"\n",
        "    else:\n",
        "        return \"Scalene\"\n",
        "\n",
        "side1 = float(input(\"Enter the value of side1: \"))\n",
        "side2 = float(input(\"Enter the value of side2: \"))\n",
        "side3 = float(input(\"Enter the value of side3: \"))\n",
        "\n",
        "triangle_type = triangle(side1, side2, side3)\n",
        "\n",
        "print(\"Triangle type:\", triangle_type)\n"
      ],
      "metadata": {
        "colab": {
          "base_uri": "https://localhost:8080/"
        },
        "id": "IEsuV3QfKaH5",
        "outputId": "785b2c35-2d21-4ecc-904c-a50891d97478"
      },
      "execution_count": 1,
      "outputs": [
        {
          "output_type": "stream",
          "name": "stdout",
          "text": [
            "Enter the value of side1: 2\n",
            "Enter the value of side2: 2\n",
            "Enter the value of side3: 1\n",
            "Triangle type: Isosceles\n"
          ]
        }
      ]
    },
    {
      "cell_type": "code",
      "source": [
        "# 20 Write a Python program to get the next day of a given date.Expected Output:Input a year: 2016;Input a month [1-12]: 08; Input a day [1-31]: 23, The next date is [yyyy-mm-dd] 2016-8-24.\n",
        "\n",
        "year = int(input(\"Input a year: \"))\n",
        "\n",
        "if (year % 400 == 0):\n",
        "    leap_year = True\n",
        "elif (year % 100 == 0):\n",
        "    leap_year = False\n",
        "elif (year % 4 == 0):\n",
        "    leap_year = True\n",
        "else:\n",
        "    leap_year = False\n",
        "\n",
        "month = int(input(\"Input a month [1-12]: \"))\n",
        "\n",
        "if month in (1, 3, 5, 7, 8, 10, 12):\n",
        "    month_length = 31\n",
        "elif month == 2:\n",
        "    if leap_year:\n",
        "        month_length = 29\n",
        "    else:\n",
        "        month_length = 28\n",
        "else:\n",
        "    month_length = 30\n",
        "\n",
        "\n",
        "day = int(input(\"Input a day [1-31]: \"))\n",
        "\n",
        "if day < month_length:\n",
        "    day += 1\n",
        "else:\n",
        "    day = 1\n",
        "    if month == 12:\n",
        "        month = 1\n",
        "        year += 1\n",
        "    else:\n",
        "        month += 1\n",
        "print(\"The next date is [yyyy-mm-dd] %d-%d-%d.\" % (year, month, day))"
      ],
      "metadata": {
        "colab": {
          "base_uri": "https://localhost:8080/"
        },
        "id": "-8ugz7XDvkB_",
        "outputId": "51236194-2998-4a0c-e0e6-5a12272bc185"
      },
      "execution_count": 10,
      "outputs": [
        {
          "output_type": "stream",
          "name": "stdout",
          "text": [
            "Input a year: 2016\n",
            "Input a month [1-12]: 08\n",
            "Input a day [1-31]: 23\n",
            "The next date is [yyyy-mm-dd] 2016-8-24.\n"
          ]
        }
      ]
    }
  ]
}