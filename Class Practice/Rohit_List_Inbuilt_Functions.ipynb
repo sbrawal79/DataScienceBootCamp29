{
  "cells": [
    {
      "cell_type": "code",
      "execution_count": null,
      "metadata": {
        "colab": {
          "base_uri": "https://localhost:8080/"
        },
        "id": "7HL9MosV1Pc2",
        "outputId": "dc8ab42f-454f-4475-defe-c122bfa13b87"
      },
      "outputs": [
        {
          "output_type": "execute_result",
          "data": {
            "text/plain": [
              "[1, '28', 3, 4, 5, 6]"
            ]
          },
          "metadata": {},
          "execution_count": 2
        }
      ],
      "source": [
        "# LIST ARE MUTABLE\n",
        "list_demo=[1,2,3,4,5,6]\n",
        "list_demo[1]=28\n",
        "list_demo"
      ]
    },
    {
      "cell_type": "code",
      "execution_count": null,
      "metadata": {
        "colab": {
          "base_uri": "https://localhost:8080/"
        },
        "id": "AgMIMt892Gpo",
        "outputId": "156fceed-16ec-4154-98c4-452f68370b6c"
      },
      "outputs": [
        {
          "data": {
            "text/plain": [
              "[1, 88, 3, 4, 5, 6, 'Hello']"
            ]
          },
          "execution_count": 2,
          "metadata": {},
          "output_type": "execute_result"
        }
      ],
      "source": [
        "# Append function helps us add value at the last index of string\n",
        "list_demo.append(\"Hello\")\n",
        "list_demo"
      ]
    },
    {
      "cell_type": "code",
      "execution_count": null,
      "metadata": {
        "colab": {
          "base_uri": "https://localhost:8080/"
        },
        "id": "xf5yvbqc2JGw",
        "outputId": "6deca65b-d095-4359-ac67-5253946d25cf"
      },
      "outputs": [
        {
          "data": {
            "text/plain": [
              "[88, 42, 6, 5, 3, 1]"
            ]
          },
          "execution_count": 10,
          "metadata": {},
          "output_type": "execute_result"
        }
      ],
      "source": [
        "# 1 data type for sorting\n",
        "list_demo=[1,42,3,88,5,6]\n",
        "list_demo.sort(reverse=True)\n",
        "list_demo"
      ]
    },
    {
      "cell_type": "code",
      "execution_count": null,
      "metadata": {
        "colab": {
          "base_uri": "https://localhost:8080/"
        },
        "id": "Y8GVcCpW2KiY",
        "outputId": "56b33f06-3368-48c3-e226-317927f903d5"
      },
      "outputs": [
        {
          "data": {
            "text/plain": [
              "['1', '2', 'a', 'b', 'c', 'd']"
            ]
          },
          "execution_count": 4,
          "metadata": {},
          "output_type": "execute_result"
        }
      ],
      "source": [
        "# 1 data type for sorting\n",
        "list_demo=['b','c','a','d','1','2']\n",
        "list_demo.sort()\n",
        "list_demo"
      ]
    },
    {
      "cell_type": "code",
      "execution_count": null,
      "metadata": {
        "colab": {
          "base_uri": "https://localhost:8080/"
        },
        "id": "5bpGX0sr2XnI",
        "outputId": "7b8a0330-f24d-482d-b394-762e4492b878"
      },
      "outputs": [
        {
          "output_type": "stream",
          "name": "stdout",
          "text": [
            "['b', 'c', 'a', 'd', '1', '2', ['hello', 'Python']]\n"
          ]
        }
      ],
      "source": [
        "list_demo=['b','c','a','d','1','2']\n",
        "list_demo_2=['hello','Python']\n",
        "list_demo.append(list_demo_2)\n",
        "print(list_demo)\n",
        "# You can compare two types of datatype"
      ]
    },
    {
      "cell_type": "code",
      "execution_count": null,
      "metadata": {
        "colab": {
          "base_uri": "https://localhost:8080/"
        },
        "id": "IeT10fAK26Rf",
        "outputId": "45b53811-f8bd-49a6-b0bc-d11783766790"
      },
      "outputs": [
        {
          "output_type": "stream",
          "name": "stdout",
          "text": [
            "['b', 'c', 'a', 'd', '1', '2', 'hello', 'Python']\n",
            "['1', '2', 'Python', 'a', 'b', 'c', 'd', 'hello']\n"
          ]
        }
      ],
      "source": [
        "list_demo=['b','c','a','d','1','2']\n",
        "list_demo_2=['hello','Python']\n",
        "list_demo.extend(list_demo_2)\n",
        "print(list_demo)\n",
        "list_demo.sort()\n",
        "print(list_demo)"
      ]
    },
    {
      "cell_type": "code",
      "execution_count": null,
      "metadata": {
        "colab": {
          "base_uri": "https://localhost:8080/"
        },
        "id": "LjrLhpNf3gAa",
        "outputId": "bec54bdf-eec3-4ec1-bb66-03e4b43d72eb"
      },
      "outputs": [
        {
          "name": "stdout",
          "output_type": "stream",
          "text": [
            "['2', '1', 'd', 'a', 'c', 'b']\n"
          ]
        }
      ],
      "source": [
        "list_demo=['b','c','a','d','1','2']\n",
        "list_demo.reverse()\n",
        "print(list_demo)"
      ]
    },
    {
      "cell_type": "code",
      "execution_count": null,
      "metadata": {
        "colab": {
          "base_uri": "https://localhost:8080/"
        },
        "id": "owJkhB79x6ne",
        "outputId": "7e0aa824-47db-4caa-b126-d27b43ad3b30"
      },
      "outputs": [
        {
          "name": "stdout",
          "output_type": "stream",
          "text": [
            "0\n"
          ]
        }
      ],
      "source": [
        "#\n",
        "list_demo=[1,2,3,4,5,6,7,8,1,2,11,1,0]\n",
        "print(list_demo.count(13))"
      ]
    },
    {
      "cell_type": "code",
      "execution_count": null,
      "metadata": {
        "id": "YCtwaSXX9MDl"
      },
      "outputs": [],
      "source": []
    },
    {
      "cell_type": "code",
      "execution_count": null,
      "metadata": {
        "colab": {
          "base_uri": "https://localhost:8080/"
        },
        "id": "9H1-A0SKzf4U",
        "outputId": "f5631347-e1c6-4dd8-dab9-e2860669b738"
      },
      "outputs": [
        {
          "output_type": "stream",
          "name": "stdout",
          "text": [
            "1\n"
          ]
        }
      ],
      "source": [
        "# find the lowest index of the value in list\n",
        "list_demo=[1,2,3,4,5,6,7,8,1,2,11,1,0]\n",
        "print(list_demo.index(2))\n"
      ]
    },
    {
      "cell_type": "code",
      "execution_count": null,
      "metadata": {
        "colab": {
          "base_uri": "https://localhost:8080/"
        },
        "id": "g73gHJM9z-Aa",
        "outputId": "2f135192-b4d2-4b62-f145-2e87f8113020"
      },
      "outputs": [
        {
          "output_type": "execute_result",
          "data": {
            "text/plain": [
              "[1, 2, 3, 4, 5, 6, 7, 8, 1, 2, 11, 1]"
            ]
          },
          "metadata": {},
          "execution_count": 10
        }
      ],
      "source": [
        "list_demo=[1,2,3,4,5,6,7,8,1,2,11,1,0]\n",
        "# pop REMOVES FROM LAST IF NO VALUE, IF A VALUE IS ENTERED IT REMOVED FROM THAT INDEX.\n",
        "list_demo.pop()\n",
        "list_demo\n",
        "\n"
      ]
    },
    {
      "cell_type": "code",
      "execution_count": null,
      "metadata": {
        "colab": {
          "base_uri": "https://localhost:8080/"
        },
        "id": "LLBQXh_B0dCq",
        "outputId": "92e28b30-e96c-4474-aa58-1d0ad86a42cd"
      },
      "outputs": [
        {
          "output_type": "stream",
          "name": "stdout",
          "text": [
            "(1, 2)\n"
          ]
        },
        {
          "output_type": "execute_result",
          "data": {
            "text/plain": [
              "[1, 2, 3, 4, 5, 6, 7, 8, 1, 2, 11, 1]"
            ]
          },
          "metadata": {},
          "execution_count": 11
        }
      ],
      "source": [
        "tuple_demo=1,2\n",
        "print(tuple_demo)\n",
        "list_demo"
      ]
    },
    {
      "cell_type": "code",
      "execution_count": null,
      "metadata": {
        "id": "d2ondOvN1LxE"
      },
      "outputs": [],
      "source": []
    },
    {
      "cell_type": "markdown",
      "metadata": {
        "id": "nBsPQWLb1LPa"
      },
      "source": [
        "05.04.2023"
      ]
    },
    {
      "cell_type": "code",
      "execution_count": null,
      "metadata": {
        "colab": {
          "base_uri": "https://localhost:8080/"
        },
        "id": "KLWaZKZ16fEX",
        "outputId": "94977e4d-a91c-44c6-ff05-d95355294661"
      },
      "outputs": [
        {
          "name": "stdout",
          "output_type": "stream",
          "text": [
            "['Harry', 'Potter', 'and', 'The', 'goblet', 'of', 'Fire']\n",
            "['Fire', 'of', 'goblet', 'The', 'and', 'Potter', 'Harry']\n",
            "['Fire', 'of', 'goblet', 'The', 'and', 'Potter', 'Harry']\n",
            "['Harry', 'Potter', 'and', 'The', 'goblet', 'of', 'Fire']\n"
          ]
        }
      ],
      "source": [
        "list_demo=['Harry',\"Potter\",'and','The','goblet',\"of\",'Fire']\n",
        "\n",
        "# +ve indexing +ve slicing (left to right)\n",
        "print(list_demo[0:len(list_demo):1])\n",
        "\n",
        "# -ve indexing -ve slicing (right to left)\n",
        "print(list_demo[-1:-(len(list_demo)+1):-1])\n",
        "\n",
        "# +ve indexing -ve slicing (right to left)\n",
        "print(list_demo[6::-1])\n",
        "\n",
        "# -ve indexing +ve slicing (left to right)\n",
        "print(list_demo[-7::1])"
      ]
    },
    {
      "cell_type": "code",
      "execution_count": null,
      "metadata": {
        "colab": {
          "base_uri": "https://localhost:8080/"
        },
        "id": "Q2Lq8nd_1OYc",
        "outputId": "7d6cd349-d14b-4d48-9fae-876fd198d6d9"
      },
      "outputs": [
        {
          "name": "stdout",
          "output_type": "stream",
          "text": [
            "{'f', 'y', 'r', 'n', 'g', 't', 'u', 'a', 'd', 'm', 'h', 'o', 'w', 'l', 'e', 'i'}\n",
            "2\n",
            "3\n",
            "1\n",
            "1\n",
            "1\n",
            "5\n",
            "3\n",
            "2\n",
            "2\n",
            "3\n",
            "2\n",
            "2\n",
            "2\n",
            "1\n",
            "1\n",
            "1\n"
          ]
        }
      ],
      "source": [
        "# WRAP TO FIND COUNT OF ALL ELEMENTS IN A STRING\n",
        "\n",
        "str1 = \"hello my friend how are you doing today\"\n",
        "str1=str1.replace(\" \",\"\")\n",
        "print(set(str1))\n",
        "print(str1.count('a'))\n",
        "print(str1.count('y'))\n",
        "print(str1.count('u'))\n",
        "print(str1.count('g'))\n",
        "print(str1.count('t'))\n",
        "print(str1.count('o'))\n",
        "print(str1.count('e'))\n",
        "print(str1.count('h'))\n",
        "print(str1.count('r'))\n",
        "print(str1.count('d'))\n",
        "print(str1.count('i'))\n",
        "print(str1.count('n'))\n",
        "print(str1.count('l'))\n",
        "print(str1.count('w'))\n",
        "print(str1.count('m'))\n",
        "print(str1.count('f'))"
      ]
    },
    {
      "cell_type": "code",
      "execution_count": null,
      "metadata": {
        "colab": {
          "base_uri": "https://localhost:8080/"
        },
        "id": "WUch-oBR9P7X",
        "outputId": "12e951a5-ebb4-4af5-a9ca-8842b1997000"
      },
      "outputs": [
        {
          "name": "stdout",
          "output_type": "stream",
          "text": [
            "101\n"
          ]
        }
      ],
      "source": [
        "# FIND THE LARGEST NUMBER IN THE LIST\n",
        "a=[1,10,18,18,19,66,101,85]\n",
        "a.sort()\n",
        "print(a[-1])"
      ]
    },
    {
      "cell_type": "code",
      "execution_count": null,
      "metadata": {
        "colab": {
          "base_uri": "https://localhost:8080/"
        },
        "id": "71Ezmeky-4gL",
        "outputId": "68f118c5-8be9-48e7-a37b-194f5fda09da"
      },
      "outputs": [
        {
          "name": "stdout",
          "output_type": "stream",
          "text": [
            "101\n"
          ]
        }
      ],
      "source": [
        "a=[1,10,18,18,19,66,101,85]\n",
        "a.sort(reverse=True)\n",
        "print(a[0])"
      ]
    },
    {
      "cell_type": "code",
      "execution_count": null,
      "metadata": {
        "colab": {
          "base_uri": "https://localhost:8080/"
        },
        "id": "cY7Jrayw_RhM",
        "outputId": "f1b03848-3cb1-4e03-9588-da6245de7583"
      },
      "outputs": [
        {
          "name": "stdout",
          "output_type": "stream",
          "text": [
            "[1, 10, 18, 18, 19, 66, 101, 85, 1, 2, 6, 8, 9]\n"
          ]
        }
      ],
      "source": [
        "a=[1,10,18,19,66,101,85]\n",
        "b=[1,2,6,8,9]\n",
        "print(a+b)"
      ]
    },
    {
      "cell_type": "code",
      "execution_count": null,
      "metadata": {
        "colab": {
          "base_uri": "https://localhost:8080/",
          "height": 35
        },
        "id": "Xlclix-r_nTU",
        "outputId": "6ec3c32c-b798-463e-f32b-bb89ef5c0885"
      },
      "outputs": [
        {
          "data": {
            "application/vnd.google.colaboratory.intrinsic+json": {
              "type": "string"
            },
            "text/plain": [
              "'Harry potter and the goblet of fire'"
            ]
          },
          "execution_count": 9,
          "metadata": {},
          "output_type": "execute_result"
        }
      ],
      "source": [
        "list_str=['Harry',\"potter\",\"and\",\"the\",\"goblet\",\"of\",\"fire\"]\n",
        "' '.join(list_str)\n",
        "\n",
        "# take 1first value = \"string\" +2nd value"
      ]
    },
    {
      "cell_type": "code",
      "execution_count": null,
      "metadata": {
        "colab": {
          "base_uri": "https://localhost:8080/"
        },
        "id": "Zvg1iT8tDJJG",
        "outputId": "f0da58ca-d07a-4680-b12c-4ed44369271b"
      },
      "outputs": [
        {
          "name": "stdout",
          "output_type": "stream",
          "text": [
            "Hey how are you\n"
          ]
        }
      ],
      "source": [
        "#su=you\n",
        "tup1=(\"Hey\",\"how\",'are',\"su\")\n",
        "tup1=' '.join(tup1)\n",
        "print(tup1.replace(\"su\",\"you\"))"
      ]
    },
    {
      "cell_type": "code",
      "execution_count": null,
      "metadata": {
        "id": "YBIUjzClDBAi"
      },
      "outputs": [],
      "source": []
    },
    {
      "cell_type": "markdown",
      "metadata": {
        "id": "allsxob6XNqj"
      },
      "source": [
        "#Assignment"
      ]
    },
    {
      "cell_type": "code",
      "execution_count": null,
      "metadata": {
        "colab": {
          "base_uri": "https://localhost:8080/"
        },
        "id": "Mjmde2oaXWEq",
        "outputId": "849f5d4e-16d7-4687-f62b-1c9905e16f51"
      },
      "outputs": [
        {
          "name": "stdout",
          "output_type": "stream",
          "text": [
            "[1, 2, 3, 4]\n",
            "[5, 6, 7, 8]\n"
          ]
        }
      ],
      "source": [
        "a=[1,2,3,4,5,6,7,8]\n",
        "print(a[0:len(a)//2])\n",
        "print(a[len(a)//2:len(a)])\n"
      ]
    },
    {
      "cell_type": "code",
      "execution_count": null,
      "metadata": {
        "colab": {
          "base_uri": "https://localhost:8080/"
        },
        "id": "9oImpn_S2IZE",
        "outputId": "0c14b267-ecad-413d-c222-2b6f2e63d9e4"
      },
      "outputs": [
        {
          "name": "stdout",
          "output_type": "stream",
          "text": [
            "<class 'set'>\n",
            "2\n",
            "2\n",
            "1\n",
            "1\n",
            "2\n",
            "1\n",
            "1\n",
            "0\n"
          ]
        }
      ],
      "source": [
        "#2) c=[1,2,3,4,5,1,2,3,'a','b',['h','a']] find count of all elements in this list\n",
        "c=[1,2,3,4,5,1,2,3,'a','b',['h','a']]\n",
        "print(set)\n",
        "print(c.count(1))\n",
        "print(c.count(2))\n",
        "print(c.count(4))\n",
        "print(c.count(5))\n",
        "print(c.count(3))\n",
        "print(c.count('a'))\n",
        "print(c.count('b'))\n",
        "print(c.count('h'))\n",
        "\n",
        "\n"
      ]
    },
    {
      "cell_type": "code",
      "execution_count": null,
      "metadata": {
        "colab": {
          "base_uri": "https://localhost:8080/"
        },
        "id": "or2AqZ0m28FA",
        "outputId": "71d492c1-c68e-40d7-8ea0-7afaec64ad4f"
      },
      "outputs": [
        {
          "name": "stdout",
          "output_type": "stream",
          "text": [
            "yyushgedcba11\n"
          ]
        }
      ],
      "source": [
        "str_temp=\"11abcdeghsuyy\"\n",
        "print(str_temp[len(str_temp)::-1])"
      ]
    },
    {
      "cell_type": "code",
      "execution_count": null,
      "metadata": {
        "id": "371rrJGV3ctL"
      },
      "outputs": [],
      "source": []
    },
    {
      "cell_type": "code",
      "execution_count": null,
      "metadata": {
        "colab": {
          "base_uri": "https://localhost:8080/"
        },
        "id": "lrPo8Adq0ruV",
        "outputId": "4999b172-2a13-4af7-e4a1-a350ab502dad"
      },
      "outputs": [
        {
          "name": "stdout",
          "output_type": "stream",
          "text": [
            "AFTER INSERTION  [1, 2, 88, 4, 5, 7]\n",
            "FINAL OUTPUT  [1, 2, 88, 4, 5, 7, 3]\n"
          ]
        }
      ],
      "source": [
        "a=[1,2,3,4,5,7]\n",
        "popped_value=a.pop(2)\n",
        "a.insert(2,88)\n",
        "print(\"AFTER INSERTION \",a)\n",
        "a.append(popped_value)\n",
        "print(\"FINAL OUTPUT \",a)\n"
      ]
    },
    {
      "cell_type": "code",
      "execution_count": null,
      "metadata": {
        "colab": {
          "base_uri": "https://localhost:8080/"
        },
        "id": "fgakC4rO9pgZ",
        "outputId": "d1c55da5-0bca-4d23-80ba-8b280c4c6a8f"
      },
      "outputs": [
        {
          "name": "stdout",
          "output_type": "stream",
          "text": [
            "person is eligible to vote\n"
          ]
        }
      ],
      "source": [
        "# Write A program to check if a person if eligible for voting or not?\n",
        "age = 18\n",
        "if age >= 18:\n",
        "  print('person is eligible to vote')\n",
        "else:\n",
        "  print('not eligible to vote')\n",
        "\n"
      ]
    },
    {
      "cell_type": "code",
      "execution_count": null,
      "metadata": {
        "colab": {
          "base_uri": "https://localhost:8080/"
        },
        "id": "7aqKjCOeCCZ0",
        "outputId": "a26ee7d7-4718-4c55-eb3d-144cb1ae8fa0"
      },
      "outputs": [
        {
          "name": "stdout",
          "output_type": "stream",
          "text": [
            "even\n"
          ]
        }
      ],
      "source": [
        "# 2) Write A program to check if a number is even or odd?\n",
        "num = 20\n",
        "if (num)%2 == 0:\n",
        "  print('even')\n",
        "else:\n",
        "  print('odd')\n",
        "\n"
      ]
    },
    {
      "cell_type": "code",
      "execution_count": null,
      "metadata": {
        "colab": {
          "base_uri": "https://localhost:8080/"
        },
        "id": "gfKQ-JFQCHff",
        "outputId": "9eccae8a-7b02-427d-8ae3-9719c6991e55"
      },
      "outputs": [
        {
          "name": "stdout",
          "output_type": "stream",
          "text": [
            "number is divisable by 7\n"
          ]
        }
      ],
      "source": [
        "# 3) Write a program to check if a number is divisible by 7 or not?\n",
        "num = 77\n",
        "if (num)%7 == 0:\n",
        "  print('number is divisable by 7')\n",
        "else:\n",
        "  print('number is not divisable by 7')\n"
      ]
    },
    {
      "cell_type": "code",
      "execution_count": null,
      "metadata": {
        "id": "170FdeUPGVJR"
      },
      "outputs": [],
      "source": [
        "#4) Write a program to print \"hello\" if a number is a multiple of 5 else print \"Bye\""
      ]
    },
    {
      "cell_type": "code",
      "execution_count": null,
      "metadata": {
        "colab": {
          "base_uri": "https://localhost:8080/"
        },
        "id": "zPW9eiSXIBoj",
        "outputId": "bd57588a-15e5-4b82-e197-b852a4d9d516"
      },
      "outputs": [
        {
          "name": "stdout",
          "output_type": "stream",
          "text": [
            "\"Bye\"\n"
          ]
        }
      ],
      "source": [
        "num = 364\n",
        "if (num)%5 == 0:\n",
        "  print('\"hello\"')\n",
        "else:\n",
        "  print('\"Bye\"')"
      ]
    },
    {
      "cell_type": "code",
      "execution_count": null,
      "metadata": {
        "id": "IDCX1vEbJ5IK"
      },
      "outputs": [],
      "source": [
        "# Write a program to calculate electricity bill according to following criteria\n",
        "\n",
        "First 100 units                     No Charge\n",
        "Next 100 units                     5 rupees per unit\n",
        "After 200 Units                     10 rupees per unit"
      ]
    },
    {
      "cell_type": "code",
      "execution_count": null,
      "metadata": {
        "colab": {
          "base_uri": "https://localhost:8080/"
        },
        "id": "F4DrPAZNJ5kh",
        "outputId": "c40f5e07-1e08-4681-fc23-e171fa1cf73f"
      },
      "outputs": [
        {
          "name": "stdout",
          "output_type": "stream",
          "text": [
            "2000\n"
          ]
        }
      ],
      "source": [
        "unit = 350\n",
        "if (unit) <= 100:\n",
        "  print('No charge')\n",
        "elif (unit) >= 100 and (unit) < 200 :\n",
        "  print((100)*5)\n",
        "elif (unit) > 200:\n",
        "  print(((unit-200)*10)+(100*5))"
      ]
    },
    {
      "cell_type": "markdown",
      "metadata": {
        "id": "VOzir0UVZu0F"
      },
      "source": [
        "# Assignment 05.05.2023"
      ]
    },
    {
      "cell_type": "code",
      "execution_count": null,
      "metadata": {
        "colab": {
          "base_uri": "https://localhost:8080/"
        },
        "id": "XrQHYcVGX4aD",
        "outputId": "8a230838-fc64-4b7c-f245-13937ae3645e"
      },
      "outputs": [
        {
          "name": "stdout",
          "output_type": "stream",
          "text": [
            "The last digit is 3\n"
          ]
        }
      ],
      "source": [
        "#1. Write a program to find list digit of a number for example 131 the last digit is 1\n",
        "\n",
        "a = 123\n",
        "b = a % 10\n",
        "print(\"The last digit is\", b)"
      ]
    },
    {
      "cell_type": "code",
      "execution_count": null,
      "metadata": {
        "id": "puwNLUMFX6Kc"
      },
      "outputs": [],
      "source": [
        "# 2. Write a program to check criteria of the student according to %\n",
        "Marks                             GRADES\n",
        "> 90 marks                        A\n",
        "<80 and >=90 marks                B\n",
        "<60 and <= 80 marks               C\n",
        "Below 60                        Failed"
      ]
    },
    {
      "cell_type": "code",
      "execution_count": null,
      "metadata": {
        "colab": {
          "base_uri": "https://localhost:8080/"
        },
        "id": "4-_-PWt7aur0",
        "outputId": "7bb90a0b-6db7-4bb4-ed35-2b60ba7b7006"
      },
      "outputs": [
        {
          "name": "stdout",
          "output_type": "stream",
          "text": [
            "A\n"
          ]
        }
      ],
      "source": [
        "mark = 91\n",
        "if (mark) > 90 :\n",
        "  print(\"A\")\n",
        "elif (mark) > 80 and (mark) <= 90:\n",
        "  print(\"B\")\n",
        "elif (mark) > 60 and (mark) <= 80:\n",
        "  print(\"C\")\n",
        "elif (mark) < 60:\n",
        "  print(\"Failed\")"
      ]
    },
    {
      "cell_type": "code",
      "execution_count": null,
      "metadata": {
        "colab": {
          "base_uri": "https://localhost:8080/"
        },
        "id": "ItCNPnd8_aeJ",
        "outputId": "1c5cea44-b1a2-42b4-92e0-22cb739a7b0e"
      },
      "outputs": [
        {
          "name": "stdout",
          "output_type": "stream",
          "text": [
            "Jan\n"
          ]
        }
      ],
      "source": [
        "x=1\n",
        "if (x==1):\n",
        "  print (\"Jan\")\n",
        "if (x==2):\n",
        "  print(\"Feb\")\n",
        "if (x==3):\n",
        "  print(\"March\")\n",
        "if (x==4):\n",
        "  print(\"April\")\n",
        "if (x==5):\n",
        "  print(\"May\")\n",
        "if (x==6):\n",
        "  print(\"June\")\n",
        "if (x==7):\n",
        "  print(\"July\")\n",
        "if (x==8):\n",
        "  print(\"August\")\n",
        "if(x==9):\n",
        "  print(\"September\")\n",
        "if(x==10):\n",
        "  print(\"October\")\n",
        "if(x==11):\n",
        "  print(\"November\")\n",
        "if(x==12):\n",
        "  print(\"December\")\n",
        "if(x<1 or x>12):\n",
        "  print(\"Invalid input\")"
      ]
    },
    {
      "cell_type": "code",
      "execution_count": null,
      "metadata": {
        "colab": {
          "base_uri": "https://localhost:8080/"
        },
        "id": "sx5YkUumc4lT",
        "outputId": "b52821ea-3f6a-4486-975d-a5df8e5ad069"
      },
      "outputs": [
        {
          "name": "stdout",
          "output_type": "stream",
          "text": [
            "1, 2,3, 4, 5, 6, 7, 8, 9, 10, 11, 12: 12\n",
            "The month 12 is December\n"
          ]
        }
      ],
      "source": [
        "#3. Write a program to take input between 1-12 and print which month of the year is it?(Hint) 1 is January\n",
        "\n",
        "month_num = int(input(\"1, 2,3, 4, 5, 6, 7, 8, 9, 10, 11, 12: \"))\n",
        "if month_num == 1:\n",
        "    month_name = \"January\"\n",
        "elif month_num == 2:\n",
        "    month_name = \"February\"\n",
        "elif month_num == 3:\n",
        "    month_name = \"March\"\n",
        "elif month_num == 4:\n",
        "    month_name = \"April\"\n",
        "elif month_num == 5:\n",
        "    month_name = \"May\"\n",
        "elif month_num == 6:\n",
        "    month_name = \"June\"\n",
        "elif month_num == 7:\n",
        "    month_name = \"July\"\n",
        "elif month_num == 8:\n",
        "    month_name = \"August\"\n",
        "elif month_num == 9:\n",
        "    month_name = \"September\"\n",
        "elif month_num == 10:\n",
        "    month_name = \"October\"\n",
        "elif month_num == 11:\n",
        "    month_name = \"November\"\n",
        "elif month_num == 12:\n",
        "    month_name = \"December\"\n",
        "else:\n",
        "    print(\"Invalid input\")\n",
        "    exit()\n",
        "print(\"The month\", month_num, \"is\", month_name)\n"
      ]
    },
    {
      "cell_type": "code",
      "execution_count": null,
      "metadata": {
        "colab": {
          "base_uri": "https://localhost:8080/"
        },
        "id": "JbS5rFjC8aSJ",
        "outputId": "5748d7ab-c2e0-4f4a-d814-1a29e1c15377"
      },
      "outputs": [
        {
          "name": "stdout",
          "output_type": "stream",
          "text": [
            "Thursday\n"
          ]
        }
      ],
      "source": [
        "# Write a program to take input between 1-7 and print which day of week it is Hint)  1 is Sunday\n",
        "num = 5\n",
        "if (num == 1):\n",
        "    print(\"Sunday\")\n",
        "if (num == 2):\n",
        "    print(\"Monday\")\n",
        "if (num == 3):\n",
        "    print(\"Tuesday\")\n",
        "if (num == 4):\n",
        "    print(\"Wednesday\")\n",
        "if (num == 5):\n",
        "    print(\"Thursday\")\n",
        "if (num == 6):\n",
        "    print(\"Friday\")\n",
        "if (num == 7):\n",
        "    print(\"Saturday\")\n",
        "if(num<1 or num>8):\n",
        "    print(\"invalid input\")"
      ]
    },
    {
      "cell_type": "code",
      "execution_count": null,
      "metadata": {
        "colab": {
          "base_uri": "https://localhost:8080/"
        },
        "id": "KR5wmY7unkGV",
        "outputId": "e2c5fb59-caa3-4a12-fa67-a318bd1b8979"
      },
      "outputs": [
        {
          "name": "stdout",
          "output_type": "stream",
          "text": [
            "1, 2,3, 4, 5, 6, 73\n",
            "The day 3 is Tuesday\n"
          ]
        }
      ],
      "source": [
        " # Write a program to take input between 1-7 and print which day of week it is Hint)  1 is Sunday\n",
        "\n",
        "weekday_num = int(input(\"1, 2,3, 4, 5, 6, 7\"))\n",
        "if weekday_num == 1:\n",
        "    weekday_name = \"Sunday\"\n",
        "elif weekday_num == 2:\n",
        "    weekday_name = \"Monday\"\n",
        "elif weekday_num == 3:\n",
        "    weekday_name = \"Tuesday\"\n",
        "elif weekday_num == 4:\n",
        "    weekday_name = \"Wednesday\"\n",
        "elif weekday_num == 5:\n",
        "    weekday_name = \"Thursday\"\n",
        "elif weekday_num == 6:\n",
        "    weekday_name = \"Friday\"\n",
        "elif weekday_num == 7:\n",
        "    weekday_name = \"Saturday\"\n",
        "else:\n",
        "  print(\"invalid input\")\n",
        "  exit()\n",
        "print(\"The day\", weekday_num, \"is\", weekday_name)"
      ]
    },
    {
      "cell_type": "markdown",
      "metadata": {
        "id": "00QtRb6ZTBEN"
      },
      "source": [
        "# 5) Check which number is greatest and smallest?\n",
        "\n",
        "A= 82\n",
        "B=76\n",
        "C=51\n",
        "D=42\n",
        "decisionSet = set{[A,B,C,D])\n",
        "print(min ' + ' str(min(decisionSet)))\n",
        "print(max ' + ' str(min(decisionSet)))\n"
      ]
    },
    {
      "cell_type": "code",
      "execution_count": null,
      "metadata": {
        "colab": {
          "base_uri": "https://localhost:8080/"
        },
        "id": "FVnSZRE1C2-_",
        "outputId": "90c155f8-4aab-418e-8918-4e9fd1da0dd7"
      },
      "outputs": [
        {
          "name": "stdout",
          "output_type": "stream",
          "text": [
            "Not a senior citizen\n"
          ]
        }
      ],
      "source": [
        "#6 Check if a person is senior citizen or NO?\n",
        "x=64\n",
        "if (x >= 65):\n",
        "  print(\"Senior Citizen\")\n",
        "else:\n",
        "  print(\"Not a senior citizen\")"
      ]
    },
    {
      "cell_type": "code",
      "execution_count": null,
      "metadata": {
        "colab": {
          "base_uri": "https://localhost:8080/"
        },
        "id": "WkQjQLGwYZAa",
        "outputId": "6c61567f-855f-421c-d012-f88e4d86ec8e"
      },
      "outputs": [
        {
          "name": "stdout",
          "output_type": "stream",
          "text": [
            "The number is positive.\n"
          ]
        }
      ],
      "source": [
        "#7 Check if a number is positive or negative\n",
        "(num) = 5\n",
        "if (num) > 0:\n",
        "    print(\"The number is positive.\")\n",
        "elif (num) == 0:\n",
        "    print(\"The number is zero.\")\n",
        "else:\n",
        "    print(\"The number is negative.\")"
      ]
    },
    {
      "cell_type": "code",
      "execution_count": null,
      "metadata": {
        "colab": {
          "base_uri": "https://localhost:8080/"
        },
        "id": "dWOCuU7QG8fC",
        "outputId": "d001b438-8aeb-46d3-c5a5-cc482db34c4e"
      },
      "outputs": [
        {
          "name": "stdout",
          "output_type": "stream",
          "text": [
            "Not divisabble by 2 and 3\n"
          ]
        }
      ],
      "source": [
        "#8 Check if a number is divisible by both 2 and 3\n",
        "n=10\n",
        "if(n%2 or n%3) > 0:\n",
        "  print(\"Not divisabble by 2 and 3\")\n",
        "else:\n",
        "  print(\"divisabble by 2 and 3\")"
      ]
    },
    {
      "cell_type": "code",
      "execution_count": null,
      "metadata": {
        "colab": {
          "base_uri": "https://localhost:8080/"
        },
        "id": "BcrLVcO4mnLX",
        "outputId": "d17c60cc-8661-4199-fc7a-12fd457a5da9"
      },
      "outputs": [
        {
          "name": "stdout",
          "output_type": "stream",
          "text": [
            "A is a vowel\n"
          ]
        }
      ],
      "source": [
        "#Check if a character entered is a vowel or not\n",
        "# get user input\n",
        "char = \"A\"\n",
        "if char.lower() in ['a', 'e', 'i', 'o', 'u']:\n",
        "    print(char, \"is a vowel\")\n",
        "else:\n",
        "    print(char, \"is not a vowel\")\n",
        "\n"
      ]
    },
    {
      "cell_type": "code",
      "execution_count": null,
      "metadata": {
        "colab": {
          "base_uri": "https://localhost:8080/"
        },
        "id": "jk7WtHdhxOZ4",
        "outputId": "0d3457f6-8a87-459e-8145-90a352e0501b"
      },
      "outputs": [
        {
          "name": "stdout",
          "output_type": "stream",
          "text": [
            "a is a vowel\n"
          ]
        }
      ],
      "source": [
        "# get user input\n",
        "char = \"a\"\n",
        "if char.upper() in ['A', 'E', 'I', 'O', 'U']:\n",
        "    print(char, \"is a vowel\")\n",
        "else:\n",
        "    print(char, \"is not a vowel\")\n"
      ]
    },
    {
      "cell_type": "code",
      "execution_count": null,
      "metadata": {
        "colab": {
          "base_uri": "https://localhost:8080/"
        },
        "id": "HIKFrYfXxgHt",
        "outputId": "e61726ca-0c9f-403a-d27d-8999970d7e14"
      },
      "outputs": [
        {
          "name": "stdout",
          "output_type": "stream",
          "text": [
            "The youngest player is 51 years old.\n",
            "The oldest player is 91 years old.\n"
          ]
        }
      ],
      "source": [
        "# Tell which person is the youngest and oldest\n",
        "Messi=82\n",
        "Ronaldo=91\n",
        "Ronaldino=62\n",
        "Neymar=51\n",
        "# Define the ages of the players\n",
        "Messi = 82\n",
        "Ronaldo = 91\n",
        "Ronaldino = 62\n",
        "Neymar = 51\n",
        "\n",
        "# Find the youngest and oldest players\n",
        "youngest = min(Messi, Ronaldo, Ronaldino, Neymar)\n",
        "oldest = max(Messi, Ronaldo, Ronaldino, Neymar)\n",
        "\n",
        "# Print the results\n",
        "print(\"The youngest player is\", youngest, \"years old.\")\n",
        "print(\"The oldest player is\", oldest, \"years old.\")\n"
      ]
    },
    {
      "cell_type": "markdown",
      "metadata": {
        "id": "ZIplOeoJcaeB"
      },
      "source": [
        "05.08.2023"
      ]
    },
    {
      "cell_type": "code",
      "execution_count": null,
      "metadata": {
        "colab": {
          "base_uri": "https://localhost:8080/"
        },
        "id": "eB-cFtQ_cZbJ",
        "outputId": "ccb25801-9f8a-4e7b-e871-cd84ce8a5441"
      },
      "outputs": [
        {
          "name": "stdout",
          "output_type": "stream",
          "text": [
            "1\n",
            "3\n",
            "5\n",
            "7\n",
            "9\n"
          ]
        }
      ],
      "source": [
        "# start,stop,step, formula is (n-1)\n",
        "for i in range(1,10,2):\n",
        "  print(i)"
      ]
    },
    {
      "cell_type": "code",
      "execution_count": null,
      "metadata": {
        "colab": {
          "base_uri": "https://localhost:8080/"
        },
        "id": "ErZtCu9ldfck",
        "outputId": "2e7f536b-a83b-4ee7-a98d-fa09a81ed499"
      },
      "outputs": [
        {
          "name": "stdout",
          "output_type": "stream",
          "text": [
            "0\n",
            "1\n",
            "========== 1 =========\n",
            "0\n",
            "1\n",
            "2\n",
            "3\n",
            "========== 2 =========\n",
            "0\n",
            "1\n",
            "2\n",
            "3\n",
            "4\n",
            "5\n",
            "========== 3 =========\n",
            "0\n",
            "1\n",
            "2\n",
            "3\n",
            "4\n",
            "5\n",
            "6\n",
            "7\n",
            "========== 4 =========\n",
            "0\n",
            "1\n",
            "2\n",
            "3\n",
            "4\n",
            "5\n",
            "6\n",
            "7\n",
            "8\n",
            "9\n",
            "========== 5 =========\n",
            "0\n",
            "1\n",
            "2\n",
            "3\n",
            "4\n",
            "5\n",
            "6\n",
            "7\n",
            "8\n",
            "9\n",
            "10\n",
            "11\n",
            "========== 6 =========\n",
            "0\n",
            "1\n",
            "2\n",
            "3\n",
            "4\n",
            "5\n",
            "6\n",
            "7\n",
            "8\n",
            "9\n",
            "10\n",
            "11\n",
            "12\n",
            "13\n",
            "========== 7 =========\n",
            "0\n",
            "1\n",
            "2\n",
            "3\n",
            "4\n",
            "5\n",
            "6\n",
            "7\n",
            "8\n",
            "9\n",
            "10\n",
            "11\n",
            "12\n",
            "13\n",
            "14\n",
            "15\n",
            "========== 8 =========\n",
            "0\n",
            "1\n",
            "2\n",
            "3\n",
            "4\n",
            "5\n",
            "6\n",
            "7\n",
            "8\n",
            "9\n",
            "10\n",
            "11\n",
            "12\n",
            "13\n",
            "14\n",
            "15\n",
            "16\n",
            "17\n",
            "========== 9 =========\n"
          ]
        }
      ],
      "source": [
        "for i in range(1,10,1):\n",
        "  for j in range(i*2):\n",
        "   print(j)\n",
        "  print(\"========== \"+ str(i) +\" =========\")"
      ]
    },
    {
      "cell_type": "code",
      "execution_count": null,
      "metadata": {
        "colab": {
          "base_uri": "https://localhost:8080/"
        },
        "id": "97YQT3IEe0fi",
        "outputId": "6cf0b574-decf-4225-f5d0-6df5b3f511f5"
      },
      "outputs": [
        {
          "name": "stdout",
          "output_type": "stream",
          "text": [
            "Prime Number\n"
          ]
        }
      ],
      "source": [
        "#  1) check if a number is prime or not  7   1 and 7\n",
        "n=13\n",
        "flag=True\n",
        "if n <= 1:\n",
        "  print(\"1 is a prime number\")\n",
        "for i in range(2, n//2):\n",
        "  if n % i == 0:\n",
        "    flag=False\n",
        "if flag:\n",
        "  print(\"Prime Number\")\n",
        "else:\n",
        "  print(\"Not A Prime Number\")"
      ]
    },
    {
      "cell_type": "code",
      "execution_count": null,
      "metadata": {
        "colab": {
          "base_uri": "https://localhost:8080/"
        },
        "id": "EETgQZUCkC3e",
        "outputId": "284f7191-759c-4415-bf6a-f55c92406183"
      },
      "outputs": [
        {
          "name": "stdout",
          "output_type": "stream",
          "text": [
            "Not a prime nuber\n"
          ]
        }
      ],
      "source": [
        "n=51\n",
        "#2,3,4\n",
        "if n <= 1:\n",
        "  print(str(n)+\" is a prime number\")\n",
        "  \n",
        "for i in range(2, n//2):\n",
        "  if n % i == 0:\n",
        "    print(\"Not a prime nuber\")\n",
        "    break\n",
        "      \n",
        "# if flag:\n",
        "#   print(\"Prime Number\")\n",
        "# else:\n",
        "#   print(\"Not A Prime Number\")"
      ]
    },
    {
      "cell_type": "code",
      "execution_count": null,
      "metadata": {
        "colab": {
          "base_uri": "https://localhost:8080/"
        },
        "id": "2GM96FGfPEx1",
        "outputId": "34676e95-a4e4-4ef5-eb35-6d89842572ad"
      },
      "outputs": [
        {
          "name": "stdout",
          "output_type": "stream",
          "text": [
            "Enter a number: 5\n",
            "The sum of all numbers from 1 to 5 is 15\n",
            "15\n"
          ]
        }
      ],
      "source": [
        "# 1 Calculate the sum of all numbers from 1 to a given number\n",
        "n = int(input(\"Enter a number: \"))\n",
        "if n<0:\n",
        "  print(\"please enter n>0\")\n",
        "sum = 0\n",
        "for i in range(1, n+1):\n",
        "    sum = sum+i\n",
        "print(\"The sum of all numbers from 1 to\", n, \"is\", sum)"
      ]
    },
    {
      "cell_type": "code",
      "execution_count": null,
      "metadata": {
        "colab": {
          "base_uri": "https://localhost:8080/"
        },
        "id": "TNtnMSwB0AC8",
        "outputId": "c727a80b-fa55-4fa3-f2bf-8aa0509bc99c"
      },
      "outputs": [
        {
          "name": "stdout",
          "output_type": "stream",
          "text": [
            "55\n"
          ]
        }
      ],
      "source": [
        "n=10\n",
        "sum=0\n",
        "\n",
        "for k in range(1,n+1):\n",
        "  sum=sum+k\n",
        "\n",
        "print(sum)"
      ]
    },
    {
      "cell_type": "code",
      "execution_count": null,
      "metadata": {
        "colab": {
          "base_uri": "https://localhost:8080/"
        },
        "id": "5Cpar6OW2klV",
        "outputId": "ec81e41c-972a-4665-b9ec-50c5d142b6ae"
      },
      "outputs": [
        {
          "name": "stdout",
          "output_type": "stream",
          "text": [
            "enter a number:10\n",
            "1 * 1 = 1\n",
            "1 * 2 = 2\n",
            "1 * 3 = 3\n",
            "1 * 4 = 4\n",
            "1 * 5 = 5\n",
            "1 * 6 = 6\n",
            "1 * 7 = 7\n",
            "1 * 8 = 8\n",
            "1 * 9 = 9\n",
            "1 * 10 = 10\n",
            "2 * 1 = 2\n",
            "2 * 2 = 4\n",
            "2 * 3 = 6\n",
            "2 * 4 = 8\n",
            "2 * 5 = 10\n",
            "2 * 6 = 12\n",
            "2 * 7 = 14\n",
            "2 * 8 = 16\n",
            "2 * 9 = 18\n",
            "2 * 10 = 20\n",
            "3 * 1 = 3\n",
            "3 * 2 = 6\n",
            "3 * 3 = 9\n",
            "3 * 4 = 12\n",
            "3 * 5 = 15\n",
            "3 * 6 = 18\n",
            "3 * 7 = 21\n",
            "3 * 8 = 24\n",
            "3 * 9 = 27\n",
            "3 * 10 = 30\n",
            "4 * 1 = 4\n",
            "4 * 2 = 8\n",
            "4 * 3 = 12\n",
            "4 * 4 = 16\n",
            "4 * 5 = 20\n",
            "4 * 6 = 24\n",
            "4 * 7 = 28\n",
            "4 * 8 = 32\n",
            "4 * 9 = 36\n",
            "4 * 10 = 40\n",
            "5 * 1 = 5\n",
            "5 * 2 = 10\n",
            "5 * 3 = 15\n",
            "5 * 4 = 20\n",
            "5 * 5 = 25\n",
            "5 * 6 = 30\n",
            "5 * 7 = 35\n",
            "5 * 8 = 40\n",
            "5 * 9 = 45\n",
            "5 * 10 = 50\n",
            "6 * 1 = 6\n",
            "6 * 2 = 12\n",
            "6 * 3 = 18\n",
            "6 * 4 = 24\n",
            "6 * 5 = 30\n",
            "6 * 6 = 36\n",
            "6 * 7 = 42\n",
            "6 * 8 = 48\n",
            "6 * 9 = 54\n",
            "6 * 10 = 60\n",
            "7 * 1 = 7\n",
            "7 * 2 = 14\n",
            "7 * 3 = 21\n",
            "7 * 4 = 28\n",
            "7 * 5 = 35\n",
            "7 * 6 = 42\n",
            "7 * 7 = 49\n",
            "7 * 8 = 56\n",
            "7 * 9 = 63\n",
            "7 * 10 = 70\n",
            "8 * 1 = 8\n",
            "8 * 2 = 16\n",
            "8 * 3 = 24\n",
            "8 * 4 = 32\n",
            "8 * 5 = 40\n",
            "8 * 6 = 48\n",
            "8 * 7 = 56\n",
            "8 * 8 = 64\n",
            "8 * 9 = 72\n",
            "8 * 10 = 80\n",
            "9 * 1 = 9\n",
            "9 * 2 = 18\n",
            "9 * 3 = 27\n",
            "9 * 4 = 36\n",
            "9 * 5 = 45\n",
            "9 * 6 = 54\n",
            "9 * 7 = 63\n",
            "9 * 8 = 72\n",
            "9 * 9 = 81\n",
            "9 * 10 = 90\n",
            "10 * 1 = 10\n",
            "10 * 2 = 20\n",
            "10 * 3 = 30\n",
            "10 * 4 = 40\n",
            "10 * 5 = 50\n",
            "10 * 6 = 60\n",
            "10 * 7 = 70\n",
            "10 * 8 = 80\n",
            "10 * 9 = 90\n",
            "10 * 10 = 100\n"
          ]
        }
      ],
      "source": [
        "# 2 Write a program to print multiplication table of a given number\n",
        "n = int(input(\"enter a number:\"))\n",
        "for i in range(1,n+1):\n",
        "  for j in range(1,n+1):\n",
        "   print(i,\"*\",j,\"=\",i*j)"
      ]
    },
    {
      "cell_type": "code",
      "execution_count": null,
      "metadata": {
        "id": "suZV5Ih04Iy1"
      },
      "outputs": [],
      "source": [
        "# 3 Count the total number of digits in a number\n",
        "for i in range(5):\n",
        "  print(i)"
      ]
    },
    {
      "cell_type": "code",
      "execution_count": null,
      "metadata": {
        "colab": {
          "base_uri": "https://localhost:8080/",
          "height": 132
        },
        "id": "7Xp_w9jM6Amg",
        "outputId": "8b430b7a-5b95-4e5c-e4e3-50cb0d45bc2c"
      },
      "outputs": [
        {
          "ename": "SyntaxError",
          "evalue": "ignored",
          "output_type": "error",
          "traceback": [
            "\u001b[0;36m  File \u001b[0;32m\"<ipython-input-27-52924da1337f>\"\u001b[0;36m, line \u001b[0;32m13\u001b[0m\n\u001b[0;31m    else:\u001b[0m\n\u001b[0m    ^\u001b[0m\n\u001b[0;31mSyntaxError\u001b[0m\u001b[0;31m:\u001b[0m invalid syntax\n"
          ]
        }
      ],
      "source": [
        "x = 12345\n",
        "\n",
        "counter = 1\n",
        "\n",
        "for i in range(0, x):\n",
        "\n",
        "  if x//10 > 0:\n",
        "\n",
        "    counter = counter + 1\n",
        "\n",
        "x = x//10\n",
        "\n",
        "else:\n",
        "  break\n",
        "\n",
        "    print(\"The number is \" + str(counter) + \" digits long.\")"
      ]
    },
    {
      "cell_type": "code",
      "execution_count": null,
      "metadata": {
        "colab": {
          "base_uri": "https://localhost:8080/"
        },
        "id": "z_IMwaac4CGo",
        "outputId": "32fa9324-14b6-408a-947e-c739a2c09eaa"
      },
      "outputs": [
        {
          "name": "stdout",
          "output_type": "stream",
          "text": [
            "Enter a number: 12345\n",
            "54321\n"
          ]
        }
      ],
      "source": [
        "# 4 Reverse a given integer number\n",
        "num_str = input(\"Enter a number: \")\n",
        "num_str_reversed = num_str[::-1]\n",
        "print(num_str_reversed)"
      ]
    },
    {
      "cell_type": "code",
      "execution_count": null,
      "metadata": {
        "id": "4-yQjAuLcS9f"
      },
      "outputs": [],
      "source": [
        "#5 Calculate the cube of all numbers from 1 to a given number\n",
        "n = 3\n",
        "print(cube.n)"
      ]
    },
    {
      "cell_type": "markdown",
      "metadata": {
        "id": "5IZ2hE5qktjP"
      },
      "source": [
        "05.09.2023"
      ]
    },
    {
      "cell_type": "code",
      "execution_count": null,
      "metadata": {
        "colab": {
          "base_uri": "https://localhost:8080/"
        },
        "id": "Kqrdfxuwk8E6",
        "outputId": "b03bbece-14d3-41a0-aecb-d5b0a41fef5b"
      },
      "outputs": [
        {
          "name": "stdout",
          "output_type": "stream",
          "text": [
            "value of a in thi iteration is 5\n",
            "5\n",
            "value of a in thi iteration is 4\n",
            "4\n",
            "value of a in thi iteration is 3\n"
          ]
        }
      ],
      "source": [
        "a = 5\n",
        "while a>=0:\n",
        "  print(\"value of a in thi iteration is\",a)\n",
        "  if a==3:\n",
        "    break\n",
        "  else:\n",
        "    print(a)\n",
        "  a=a-1"
      ]
    },
    {
      "cell_type": "code",
      "execution_count": null,
      "metadata": {
        "colab": {
          "base_uri": "https://localhost:8080/"
        },
        "id": "jUjMQy_HqOou",
        "outputId": "4bdf975b-e0b8-440f-9a09-d5e39c8d0983"
      },
      "outputs": [
        {
          "name": "stdout",
          "output_type": "stream",
          "text": [
            "Hello 5\n",
            "Bye\n",
            "Hello 4\n",
            "Bye\n",
            "Hello 3\n",
            "Bye\n",
            "Hello 2\n",
            "Bye\n",
            "Hello 1\n",
            "Bye\n",
            "Hello 0\n",
            "Bye\n"
          ]
        }
      ],
      "source": [
        "a = 5\n",
        "while a>=0:\n",
        "  print(\"Hello\",a)\n",
        "  a=a-1\n",
        "  print(\"Bye\")"
      ]
    },
    {
      "cell_type": "code",
      "execution_count": null,
      "metadata": {
        "colab": {
          "base_uri": "https://localhost:8080/"
        },
        "id": "H2NM8h0Yrf5O",
        "outputId": "63353bff-5b00-409f-dd62-91198ce5f7db"
      },
      "outputs": [
        {
          "name": "stdout",
          "output_type": "stream",
          "text": [
            "a\n",
            "b\n",
            "c\n",
            "d\n"
          ]
        }
      ],
      "source": [
        "a_str =\"abcd\"\n",
        "# len() returns the length of the string\n",
        "for k in range(len(a_str)): # 0,4,1\n",
        "  # 0 ,1,2,3\n",
        "  print(a_str[k])"
      ]
    },
    {
      "cell_type": "code",
      "execution_count": null,
      "metadata": {
        "colab": {
          "base_uri": "https://localhost:8080/"
        },
        "id": "BfYre05Ityu0",
        "outputId": "e4c95cd3-0106-4507-caef-ef4c3046f5b0"
      },
      "outputs": [
        {
          "name": "stdout",
          "output_type": "stream",
          "text": [
            "Frequency of o is :-  5\n",
            "Frequency of   is :-  7\n",
            "Frequency of h is :-  2\n",
            "Frequency of l is :-  5\n",
            "Frequency of e is :-  6\n",
            "Frequency of w is :-  2\n",
            "Frequency of r is :-  2\n",
            "Frequency of i is :-  3\n",
            "Frequency of v is :-  1\n",
            "Frequency of d is :-  2\n",
            "Frequency of n is :-  2\n",
            "Frequency of p is :-  1\n",
            "Frequency of s is :-  1\n",
            "Frequency of y is :-  1\n",
            "Frequency of g is :-  1\n"
          ]
        }
      ],
      "source": [
        "# Write a Python program to count the number of characters (character frequency) in a string.\n",
        "a=\"hello world i hope everyone is doing well\"\n",
        "for k in set(a):\n",
        "  print(\"Frequency of \"+str(k) +\" is :- \",a.count(k))\n"
      ]
    },
    {
      "cell_type": "code",
      "execution_count": null,
      "metadata": {
        "colab": {
          "base_uri": "https://localhost:8080/"
        },
        "id": "-j7k1OtNwXCR",
        "outputId": "d0ccc707-35df-4f96-991e-359f7d0fbbf2"
      },
      "outputs": [
        {
          "name": "stdout",
          "output_type": "stream",
          "text": [
            "Frequency of l is :  5\n",
            "Frequency of e is :  6\n",
            "Frequency of w is :  2\n",
            "Frequency of y is :  1\n",
            "Frequency of o is :  5\n",
            "Frequency of   is :  7\n",
            "Frequency of r is :  2\n",
            "Frequency of d is :  2\n",
            "Frequency of n is :  2\n",
            "Frequency of i is :  3\n",
            "Frequency of s is :  1\n",
            "Frequency of p is :  1\n",
            "Frequency of g is :  1\n",
            "Frequency of h is :  2\n",
            "Frequency of v is :  1\n"
          ]
        }
      ],
      "source": [
        "a=\"hello world i hope everyone is doing well\"\n",
        "for k in set(a):\n",
        "  freq=0\n",
        "  for j in a:\n",
        "    if k==j:\n",
        "      freq=freq+1\n",
        "  print(\"Frequency of \"+str(k) +\" is : \",freq)"
      ]
    },
    {
      "cell_type": "markdown",
      "metadata": {
        "id": "SISTfucym8Mk"
      },
      "source": [
        "05.10.2023"
      ]
    },
    {
      "cell_type": "code",
      "execution_count": null,
      "metadata": {
        "colab": {
          "base_uri": "https://localhost:8080/",
          "height": 236
        },
        "id": "9h4BJsQMm-Vm",
        "outputId": "f509e4b7-5f63-4492-9fde-df85d598cbf1"
      },
      "outputs": [
        {
          "ename": "NameError",
          "evalue": "ignored",
          "output_type": "error",
          "traceback": [
            "\u001b[0;31m---------------------------------------------------------------------------\u001b[0m",
            "\u001b[0;31mNameError\u001b[0m                                 Traceback (most recent call last)",
            "\u001b[0;32m<ipython-input-23-df0ad0fd58f1>\u001b[0m in \u001b[0;36m<cell line: 4>\u001b[0;34m()\u001b[0m\n\u001b[1;32m      4\u001b[0m \u001b[0;32mfor\u001b[0m \u001b[0mk\u001b[0m \u001b[0;32min\u001b[0m \u001b[0mx\u001b[0m\u001b[0;34m:\u001b[0m\u001b[0;34m\u001b[0m\u001b[0;34m\u001b[0m\u001b[0m\n\u001b[1;32m      5\u001b[0m   \u001b[0;32mif\u001b[0m \u001b[0mk\u001b[0m\u001b[0;34m.\u001b[0m\u001b[0misupper\u001b[0m\u001b[0;34m(\u001b[0m\u001b[0;34m)\u001b[0m\u001b[0;34m:\u001b[0m\u001b[0;34m\u001b[0m\u001b[0;34m\u001b[0m\u001b[0m\n\u001b[0;32m----> 6\u001b[0;31m     \u001b[0mswapped_string\u001b[0m\u001b[0;34m=\u001b[0m\u001b[0mswapped_string\u001b[0m\u001b[0;34m+\u001b[0m\u001b[0mk\u001b[0m\u001b[0;34m.\u001b[0m\u001b[0mlower\u001b[0m\u001b[0;34m(\u001b[0m\u001b[0;34m)\u001b[0m\u001b[0;34m\u001b[0m\u001b[0;34m\u001b[0m\u001b[0m\n\u001b[0m\u001b[1;32m      7\u001b[0m \u001b[0;32melse\u001b[0m\u001b[0;34m:\u001b[0m\u001b[0;34m\u001b[0m\u001b[0;34m\u001b[0m\u001b[0m\n\u001b[1;32m      8\u001b[0m     \u001b[0mswapped_sting\u001b[0m\u001b[0;34m=\u001b[0m\u001b[0mswapped_sting\u001b[0m\u001b[0;34m+\u001b[0m\u001b[0mk\u001b[0m\u001b[0;34m.\u001b[0m\u001b[0mupper\u001b[0m\u001b[0;34m(\u001b[0m\u001b[0;34m)\u001b[0m\u001b[0;34m\u001b[0m\u001b[0;34m\u001b[0m\u001b[0m\n",
            "\u001b[0;31mNameError\u001b[0m: name 'swapped_string' is not defined"
          ]
        }
      ],
      "source": [
        "from io import UnsupportedOperation\n",
        "# Python program to convert lower letter to upper and upper letter to lower in a string.\n",
        "x = 'Hello world'\n",
        "for k in x:\n",
        "  if k.isupper():\n",
        "    swapped_string=swapped_string+k.lower()\n",
        "else:\n",
        "    swapped_sting=swapped_sting+k.upper()\n",
        "print(swapped_sting)\n"
      ]
    },
    {
      "cell_type": "code",
      "execution_count": null,
      "metadata": {
        "id": "6wzzLWtqrUPP"
      },
      "outputs": [],
      "source": [
        "wapped_string=\"\"\n",
        "name = \"JoHn CeNa\"\n",
        "for k in name:\n",
        "  if k.isupper():\n",
        "    swapped_string=swapped_string+k.lower()\n",
        "  else:\n",
        "    swapped_string=swapped_string+k.upper()\n",
        "print(swapped_string)"
      ]
    },
    {
      "cell_type": "code",
      "execution_count": null,
      "metadata": {
        "colab": {
          "base_uri": "https://localhost:8080/"
        },
        "id": "KQ_E6IJNm-Yl",
        "outputId": "210e6b79-7d23-4c72-dd69-8b2b1dbe89d9"
      },
      "outputs": [
        {
          "name": "stdout",
          "output_type": "stream",
          "text": [
            "dellloor HW\n"
          ]
        }
      ],
      "source": [
        "\n",
        "# Write a python program to sort letters of word by lower to upper case format.\n",
        "string = \"Hello World\"\n",
        "lower_string=\"\"\n",
        "upper_string=\"\"\n",
        "for k in string:\n",
        "  if k.islower():\n",
        "    lower_string=lower_string+k\n",
        "  else:\n",
        "    upper_string=upper_string+k\n",
        "lower_string=sorted(lower_string)\n",
        "upper_string=sorted(upper_string)\n",
        "print(''.join(lower_string+upper_string))\n"
      ]
    },
    {
      "cell_type": "code",
      "execution_count": null,
      "metadata": {
        "colab": {
          "base_uri": "https://localhost:8080/",
          "height": 236
        },
        "id": "V-Lf_b0Zm7Hl",
        "outputId": "bd95efc8-1a50-45e1-8a58-59f3c6871fb7"
      },
      "outputs": [
        {
          "ename": "TypeError",
          "evalue": "ignored",
          "output_type": "error",
          "traceback": [
            "\u001b[0;31m---------------------------------------------------------------------------\u001b[0m",
            "\u001b[0;31mTypeError\u001b[0m                                 Traceback (most recent call last)",
            "\u001b[0;32m<ipython-input-35-34f6929b3ef5>\u001b[0m in \u001b[0;36m<cell line: 7>\u001b[0;34m()\u001b[0m\n\u001b[1;32m      9\u001b[0m     \u001b[0mlow_count\u001b[0m\u001b[0;34m=\u001b[0m\u001b[0mlow_count\u001b[0m\u001b[0;34m+\u001b[0m\u001b[0;36m1\u001b[0m\u001b[0;34m\u001b[0m\u001b[0;34m\u001b[0m\u001b[0m\n\u001b[1;32m     10\u001b[0m   \u001b[0;32melif\u001b[0m \u001b[0mk\u001b[0m\u001b[0;34m.\u001b[0m\u001b[0misupper\u001b[0m\u001b[0;34m(\u001b[0m\u001b[0;34m)\u001b[0m\u001b[0;34m:\u001b[0m\u001b[0;34m\u001b[0m\u001b[0;34m\u001b[0m\u001b[0m\n\u001b[0;32m---> 11\u001b[0;31m     \u001b[0mupper_count\u001b[0m\u001b[0;34m=\u001b[0m\u001b[0mupper_count\u001b[0m\u001b[0;34m+\u001b[0m\u001b[0;36m1\u001b[0m\u001b[0;34m\u001b[0m\u001b[0;34m\u001b[0m\u001b[0m\n\u001b[0m\u001b[1;32m     12\u001b[0m   \u001b[0;32melif\u001b[0m \u001b[0mk\u001b[0m\u001b[0;34m.\u001b[0m\u001b[0misnumeric\u001b[0m\u001b[0;34m(\u001b[0m\u001b[0;34m)\u001b[0m\u001b[0;34m:\u001b[0m\u001b[0;34m\u001b[0m\u001b[0;34m\u001b[0m\u001b[0m\n\u001b[1;32m     13\u001b[0m     \u001b[0mnumeric_count\u001b[0m\u001b[0;34m=\u001b[0m\u001b[0mnumeric_count\u001b[0m\u001b[0;34m+\u001b[0m\u001b[0;36m1\u001b[0m\u001b[0;34m\u001b[0m\u001b[0;34m\u001b[0m\u001b[0m\n",
            "\u001b[0;31mTypeError\u001b[0m: can only concatenate str (not \"int\") to str"
          ]
        }
      ],
      "source": [
        "# Write a program in Python to count lower, upper, numeric and special characters in a string.\n",
        "wold = \"Hello world, this 2023 & Month is May\"\n",
        "lower_count=\"\"\n",
        "upper_count=\"\"\n",
        "numeric_count=\"\"\n",
        "spec_char_count=\"\"\n",
        "for k in word:\n",
        "  if i.islower():\n",
        "    low_count=low_count+1\n",
        "  elif k.isupper():\n",
        "    upper_count=upper_count+1\n",
        "  elif k.isnumeric():\n",
        "    numeric_count=numeric_count+1 \n",
        "  else:\n",
        "      print(\"spec character in\",k)\n",
        "      spec_count=spec_count+1\n",
        "print(\" Count of lowercase \",lower_count)\n",
        "print(\" Count of uppercase \",upper_count)\n",
        "print(\" Count of numeric \",numeric_count)\n",
        "print(\" Count of special characters \",special_count)\n"
      ]
    },
    {
      "cell_type": "code",
      "execution_count": null,
      "metadata": {
        "colab": {
          "base_uri": "https://localhost:8080/"
        },
        "id": "RNXJmfIZ5nKb",
        "outputId": "23ecff94-4d3d-43cd-eb7f-14e3bb01b77e"
      },
      "outputs": [
        {
          "name": "stdout",
          "output_type": "stream",
          "text": [
            "['1', '', 'bye', '', '']\n",
            "['1', '', '', '']\n"
          ]
        }
      ],
      "source": [
        "# Write a program in Python to remove an empty character from a list sequence.\n",
        "demo_list=['hello','1','','bye', '', '']\n",
        "for k in demo_list:\n",
        "  if len(k) >0:\n",
        "    demo_list.remove(k)\n",
        "    print(demo_list)"
      ]
    },
    {
      "cell_type": "code",
      "execution_count": null,
      "metadata": {
        "colab": {
          "base_uri": "https://localhost:8080/"
        },
        "id": "gr_6HlFH9wxX",
        "outputId": "c3ea286f-ba32-4b3b-f47c-0ba836a469fe"
      },
      "outputs": [
        {
          "name": "stdout",
          "output_type": "stream",
          "text": [
            "The file extension is:-  pdf\n"
          ]
        }
      ],
      "source": [
        "# find the file extension from the name of the file for example demofile.pdf\n",
        "filename =\"demofile.pdf\"\n",
        "print(\"The file extension is:- \",filename.split(\".\")[-1])"
      ]
    },
    {
      "cell_type": "code",
      "execution_count": null,
      "metadata": {
        "colab": {
          "base_uri": "https://localhost:8080/"
        },
        "id": "-blC5oJiADmo",
        "outputId": "87c48586-4eca-4560-ac05-3fa7f490a969"
      },
      "outputs": [
        {
          "name": "stdout",
          "output_type": "stream",
          "text": [
            "THE FILE EXTENSION IS :-  jpeg\n"
          ]
        }
      ],
      "source": [
        "filename=\"demofile.jpeg\"\n",
        "# -1 is last index\n",
        "print(\"THE FILE EXTENSION IS :- \",filename.split(\".\")[-1])"
      ]
    },
    {
      "cell_type": "markdown",
      "metadata": {
        "id": "cFeI7tB-6pNU"
      },
      "source": [
        "05.12.2023"
      ]
    },
    {
      "cell_type": "code",
      "execution_count": null,
      "metadata": {
        "colab": {
          "base_uri": "https://localhost:8080/"
        },
        "id": "6HyO9gKv6rR8",
        "outputId": "c1edb38e-b4d0-4108-9d38-f7f2f024d4a1"
      },
      "outputs": [
        {
          "name": "stdout",
          "output_type": "stream",
          "text": [
            "7\n"
          ]
        }
      ],
      "source": [
        "import random\n",
        "test_list = [1, 4, 5, 2, 7]\n",
        "random_num = random.choice(test_list)\n",
        "print(random_num)"
      ]
    },
    {
      "cell_type": "code",
      "execution_count": null,
      "metadata": {
        "id": "p8N83Vji79Ej"
      },
      "outputs": [],
      "source": [
        "# between computer and user\n",
        "# rock, paper , sci.... \n",
        "# if input varies ask user again for correct input\n",
        "# game goes on until user wins\n",
        "# scior < rock\n",
        "# rock < paper\n",
        "# paper < scior"
      ]
    },
    {
      "cell_type": "code",
      "execution_count": null,
      "metadata": {
        "colab": {
          "base_uri": "https://localhost:8080/"
        },
        "id": "-_frbVmq7-rj",
        "outputId": "01b3f243-ad3d-49b7-d4d2-08630a32de98"
      },
      "outputs": [
        {
          "name": "stdout",
          "output_type": "stream",
          "text": [
            "Enter your choice (rock/paper/scissors): rock\n",
            "You chose: rock\n",
            "Computer chose: rock\n",
            "It's a tie!\n"
          ]
        }
      ],
      "source": [
        "import random\n",
        "\n",
        "def play_game():\n",
        "    choices = ['rock', 'paper', 'scissors']\n",
        "    computer_choice = random.choice(choices)\n",
        "    user_choice = input(\"Enter your choice (rock/paper/scissors): \").lower()\n",
        "\n",
        "    if user_choice not in choices:\n",
        "        print(\"Invalid choice. Please try again.\")\n",
        "        play_game()\n",
        "    else:\n",
        "        print(\"You chose:\", user_choice)\n",
        "        print(\"Computer chose:\", computer_choice)\n",
        "\n",
        "        if user_choice == computer_choice:\n",
        "            print(\"It's a tie!\")\n",
        "        elif user_choice == 'rock' and computer_choice == 'scissors' \\\n",
        "            or user_choice == 'paper' and computer_choice == 'rock' \\\n",
        "            or user_choice == 'scissors' and computer_choice == 'paper':\n",
        "            print(\"You win!\")\n",
        "        else:\n",
        "            print(\"Computer wins!\")\n",
        "            \n",
        "def play_again():\n",
        "    play_again = input(\"Do you want to play again? (y/n)\").lower()\n",
        "    if play_again == 'y':\n",
        "        play_game()\n",
        "    elif play_again == 'n':\n",
        "        print(\"Thanks for playing!\")\n",
        "    else:\n",
        "        print(\"Invalid input. Please try again.\")\n",
        "        play_again()\n",
        "\n",
        "\n",
        "play_game()\n",
        "\n"
      ]
    },
    {
      "cell_type": "code",
      "execution_count": null,
      "metadata": {
        "colab": {
          "background_save": true,
          "base_uri": "https://localhost:8080/"
        },
        "id": "AXid4BoaCyWf",
        "outputId": "ebfa495f-9859-4697-8685-bab84beecaec"
      },
      "outputs": [
        {
          "name": "stdout",
          "output_type": "stream",
          "text": [
            "You lose! Paper covers rock\n"
          ]
        }
      ],
      "source": [
        "import random\n",
        "computer_inputs=[\"Rock\",\"Paper\",\"Scissors\"]\n",
        "user_win=False\n",
        "\n",
        "while user_win==False:\n",
        "  computer = random.choice(computer_inputs)\n",
        "  player=input(\"Please enter the choice from 'Rock','Paper','Scissors' \\n\")\n",
        "  if player.lower() == computer.lower():\n",
        "        print(\"Tie!\")\n",
        "  elif player.lower() == \"Rock\".lower():\n",
        "      if computer.lower() == \"Paper\".lower():\n",
        "          print(\"You lose!\", computer, \"covers\", player)\n",
        "      else:\n",
        "          print(\"You win!\", player, \"smashes\", computer)\n",
        "          user_win=True\n",
        "  elif player.lower() == \"Paper\".lower():\n",
        "      if computer.lower() == \"Scissors\".lower():\n",
        "          print(\"You lose!\", computer, \"cut\", player)\n",
        "      else:\n",
        "          print(\"You win!\", player, \"covers\", computer)\n",
        "          user_win=True\n",
        "  elif player.lower() == \"Scissors\".lower():\n",
        "      if computer.lower() == \"Rock\".lower():\n",
        "          print(\"You lose!\", computer, \"smashes\", player)\n",
        "      else:\n",
        "          print(\"You win!\", player, \"cut\", computer)\n",
        "          user_win=True\n",
        "  else:\n",
        "      print(\"That's not a valid play. Check your spelling!\")\n",
        "\n"
      ]
    },
    {
      "cell_type": "code",
      "execution_count": null,
      "metadata": {
        "id": "6ojo7eBUluUz"
      },
      "outputs": [],
      "source": [
        "# Write a program to find out the prime factors of a number. Example: prime factors of 56\n",
        "def prime(n):\n",
        "   for i in range(2, n//2):\n",
        "      if n % i == 0:\n",
        "        return False\n",
        "   return True\n",
        "\n"
      ]
    },
    {
      "cell_type": "code",
      "execution_count": null,
      "metadata": {
        "colab": {
          "base_uri": "https://localhost:8080/"
        },
        "id": "Rn_fwF4rEERe",
        "outputId": "defa5487-dac7-4c50-bf8f-bb1757bb5eb7"
      },
      "outputs": [
        {
          "name": "stdout",
          "output_type": "stream",
          "text": [
            "2 is a prime factor of 56\n",
            "7 is a prime factor of 56\n"
          ]
        }
      ],
      "source": [
        "\n",
        "def is_prime(n):\n",
        "   for i in range(2, n):\n",
        "      if n % i == 0:\n",
        "        return False\n",
        "   return True\n",
        "\n",
        "def primeFactors(n):\n",
        "  checkmate=True\n",
        "  for k in range(2,n):\n",
        "    if n%k==0:\n",
        "      if is_prime(k):\n",
        "        print(str(k)+\" is a prime factor of\",n)\n",
        "        checkmate=False\n",
        "  if checkmate:\n",
        "    print(\"Number has no prime factors\")\n",
        "\n",
        "n = 56\n",
        "primeFactors(n)"
      ]
    },
    {
      "cell_type": "markdown",
      "metadata": {
        "id": "FqN_4xwSt-zl"
      },
      "source": [
        "#If all digits of a number n are multiplied by each other repeating with the product, the one digit number obtained at last is called the multiplicative digital root of n. The number of times digits need to be multiplied to reach one digit is called the multiplicative persistance of n\n",
        "\n",
        "\n",
        "#Example: 86 -> 48 -> 32 -> 6 (MDR 6, MPersistence 3)\n",
        "\n",
        "# 341 -> 12->2           (MDR 2, MPersistence 2)"
      ]
    },
    {
      "cell_type": "code",
      "execution_count": null,
      "metadata": {
        "id": "eKe1xmG8t3Rq"
      },
      "outputs": [],
      "source": [
        "def multiplicative_digital_root(number):\n",
        "    persistence = 0\n",
        "\n",
        "    while number >= 10:\n",
        "        result = 1\n",
        "        for k in str(number):\n",
        "            result *= int(k)\n",
        "        number = result\n",
        "        persistence += 1\n",
        "\n",
        "    return number, persistence\n"
      ]
    },
    {
      "cell_type": "code",
      "execution_count": null,
      "metadata": {
        "colab": {
          "base_uri": "https://localhost:8080/"
        },
        "id": "fsyJBp8fvTM_",
        "outputId": "7a48a26a-a9e8-49ea-e61e-f3dbc6087515"
      },
      "outputs": [
        {
          "name": "stdout",
          "output_type": "stream",
          "text": [
            "Multiplicative Digital Root: 5\n",
            "Multiplicative Persistence: 3\n"
          ]
        }
      ],
      "source": [
        "num1 = 75\n",
        "mdr,persistence1 = multiplicative_digital_root(num1)\n",
        "print(\"Multiplicative Digital Root:\", mdr)\n",
        "print(\"Multiplicative Persistence:\", persistence1)\n"
      ]
    },
    {
      "cell_type": "code",
      "execution_count": null,
      "metadata": {
        "colab": {
          "base_uri": "https://localhost:8080/",
          "height": 132
        },
        "id": "YtzhW-J3s7vS",
        "outputId": "952d8473-d5a9-4efd-ecb1-1fecb97f7d58"
      },
      "outputs": [
        {
          "ename": "SyntaxError",
          "evalue": "ignored",
          "output_type": "error",
          "traceback": [
            "\u001b[0;36m  File \u001b[0;32m\"<ipython-input-19-987878965eaf>\"\u001b[0;36m, line \u001b[0;32m3\u001b[0m\n\u001b[0;31m    while abcd==False\u001b[0m\n\u001b[0m                     ^\u001b[0m\n\u001b[0;31mSyntaxError\u001b[0m\u001b[0;31m:\u001b[0m expected ':'\n"
          ]
        }
      ],
      "source": [
        "abcd=False\n",
        "n=87\n",
        "while abcd==False\n",
        "  if n%2==0:\n",
        "    abcd = True\n",
        "    else:\n",
        "       n=n//2\n",
        "    print(n,abcd)\n",
        "\n"
      ]
    },
    {
      "cell_type": "markdown",
      "metadata": {
        "id": "Jizq0FUJyzhX"
      },
      "source": [
        "05.17.2023"
      ]
    },
    {
      "cell_type": "code",
      "execution_count": null,
      "metadata": {
        "colab": {
          "base_uri": "https://localhost:8080/",
          "height": 201
        },
        "id": "Ov8HPlrby3Fw",
        "outputId": "f32eb8da-e71f-481b-fd74-91a882390523"
      },
      "outputs": [
        {
          "ename": "FileNotFoundError",
          "evalue": "ignored",
          "output_type": "error",
          "traceback": [
            "\u001b[0;31m---------------------------------------------------------------------------\u001b[0m",
            "\u001b[0;31mFileNotFoundError\u001b[0m                         Traceback (most recent call last)",
            "\u001b[0;32m<ipython-input-20-3c6944052863>\u001b[0m in \u001b[0;36m<cell line: 1>\u001b[0;34m()\u001b[0m\n\u001b[0;32m----> 1\u001b[0;31m \u001b[0mf\u001b[0m\u001b[0;34m=\u001b[0m\u001b[0mopen\u001b[0m\u001b[0;34m(\u001b[0m\u001b[0;34m\"abcd.txt\"\u001b[0m\u001b[0;34m,\u001b[0m\u001b[0;34m\"r\"\u001b[0m\u001b[0;34m)\u001b[0m\u001b[0;34m\u001b[0m\u001b[0;34m\u001b[0m\u001b[0m\n\u001b[0m\u001b[1;32m      2\u001b[0m \u001b[0;31m# how many bytes you want to print\u001b[0m\u001b[0;34m\u001b[0m\u001b[0;34m\u001b[0m\u001b[0m\n\u001b[1;32m      3\u001b[0m \u001b[0mprint\u001b[0m\u001b[0;34m(\u001b[0m\u001b[0mf\u001b[0m\u001b[0;34m.\u001b[0m\u001b[0mread\u001b[0m\u001b[0;34m(\u001b[0m\u001b[0;34m)\u001b[0m\u001b[0;34m.\u001b[0m\u001b[0msplit\u001b[0m\u001b[0;34m(\u001b[0m\u001b[0;34m\"\\n\"\u001b[0m\u001b[0;34m)\u001b[0m\u001b[0;34m)\u001b[0m\u001b[0;34m\u001b[0m\u001b[0;34m\u001b[0m\u001b[0m\n",
            "\u001b[0;31mFileNotFoundError\u001b[0m: [Errno 2] No such file or directory: 'abcd.txt'"
          ]
        }
      ],
      "source": [
        "f=open(\"abcd.txt\",\"r\")\n",
        "# how many bytes you want to print\n",
        "print(f.read().split(\"\\n\"))"
      ]
    },
    {
      "cell_type": "code",
      "execution_count": null,
      "metadata": {
        "id": "76S7qmUlzGoS"
      },
      "outputs": [],
      "source": [
        "\"\"\"\n",
        "Write this dictonary to text file\n",
        "read the data from text file\n",
        "and convert it back to dictoanary \n",
        "\"\"\""
      ]
    },
    {
      "cell_type": "code",
      "execution_count": null,
      "metadata": {
        "id": "8hvkmT-T7qER"
      },
      "outputs": [],
      "source": [
        "temp_dict={}\n",
        "for k in range(10):\n",
        "  temp_dict[\"Name\"+str(k)]=k"
      ]
    },
    {
      "cell_type": "code",
      "execution_count": null,
      "metadata": {
        "colab": {
          "base_uri": "https://localhost:8080/"
        },
        "id": "STLGYk3lzHZg",
        "outputId": "dce0fe17-7ea9-4521-f7e4-2dc7fe424a44"
      },
      "outputs": [
        {
          "data": {
            "text/plain": [
              "{'Name0': 0,\n",
              " 'Name1': 1,\n",
              " 'Name2': 2,\n",
              " 'Name3': 3,\n",
              " 'Name4': 4,\n",
              " 'Name5': 5,\n",
              " 'Name6': 6,\n",
              " 'Name7': 7,\n",
              " 'Name8': 8,\n",
              " 'Name9': 9}"
            ]
          },
          "execution_count": 70,
          "metadata": {},
          "output_type": "execute_result"
        }
      ],
      "source": [
        "{'Name0': 0, 'Name1': 1, 'Name2': 2, 'Name3': 3, 'Name4': 4, 'Name5': 5, 'Name6': 6, 'Name7': 7, 'Name8': 8, 'Name9': 9}\n"
      ]
    },
    {
      "cell_type": "code",
      "execution_count": null,
      "metadata": {
        "colab": {
          "base_uri": "https://localhost:8080/"
        },
        "id": "BAikwkAD08P1",
        "outputId": "9d4eb586-d50e-4cff-c75c-6c4093dd65d3"
      },
      "outputs": [
        {
          "name": "stdout",
          "output_type": "stream",
          "text": [
            "{'Name0': 0, 'Name1': 1, 'Name2': 2, 'Name3': 3, 'Name4': 4, 'Name5': 5, 'Name6': 6, 'Name7': 7, 'Name8': 8, 'Name9': 9}\n"
          ]
        }
      ],
      "source": [
        "print(temp_dict)\n",
        "f=open(\"dictionary.txt\", 'w')\n",
        "for key,value in temp_dict.items():\n",
        "  f.write(str(key)+\",\"+str(value)+\"\\n\")"
      ]
    },
    {
      "cell_type": "code",
      "execution_count": null,
      "metadata": {
        "colab": {
          "base_uri": "https://localhost:8080/"
        },
        "id": "0xBdFgbk9HCW",
        "outputId": "61218767-bf53-4b94-d792-18af9db5a9ea"
      },
      "outputs": [
        {
          "name": "stdout",
          "output_type": "stream",
          "text": [
            "each line ['Name0,0', 'Name1,1', 'Name2,2', 'Name3,3', 'Name4,4', 'Name5,5', 'Name6,6', 'Name7,7', 'Name8,8', 'Name9,9', '']\n",
            "{'Name0': 0, 'Name1': 1, 'Name2': 2, 'Name3': 3, 'Name4': 4, 'Name5': 5, 'Name6': 6, 'Name7': 7, 'Name8': 8, 'Name9': 9}\n"
          ]
        }
      ],
      "source": [
        "empt_dict={}\n",
        "f1=open(\"dictionary.txt\",'r')\n",
        "data=f1.read()\n",
        "each_line=data.split(\"\\n\")\n",
        "print(\"each line\", each_line)\n",
        "for k in each_line[:-1]:\n",
        "  key,value=k.split(\",\")\n",
        "  empt_dict[key]=int(value)\n",
        "print(empt_dict)"
      ]
    },
    {
      "cell_type": "code",
      "execution_count": null,
      "metadata": {
        "colab": {
          "base_uri": "https://localhost:8080/"
        },
        "id": "me4mKxbbmSIJ",
        "outputId": "1635869a-e7b6-4590-8391-3452bbaf6fa6"
      },
      "outputs": [
        {
          "name": "stdout",
          "output_type": "stream",
          "text": [
            "Enter a number: 9\n",
            "9 is an Armstrong number.\n"
          ]
        }
      ],
      "source": [
        "# 10 Write a program to check if a number is Armstrong or not\n",
        "def is_armstrong_number(number):\n",
        "    # Convert the number to a string to determine the number of digits\n",
        "    num_str = str(number)\n",
        "    num_digits = len(num_str)\n",
        "\n",
        "    # Calculate the sum of the digits raised to the power of the number of digits\n",
        "    armstrong_sum = sum(int(digit) ** num_digits for digit in num_str)\n",
        "\n",
        "    # Check if the sum is equal to the original number\n",
        "    if armstrong_sum == number:\n",
        "        return True\n",
        "    else:\n",
        "        return False\n",
        "\n",
        "# Get input from the user\n",
        "number = int(input(\"Enter a number: \"))\n",
        "\n",
        "# Check if the number is an Armstrong number\n",
        "if is_armstrong_number(number):\n",
        "    print(number, \"is an Armstrong number.\")\n",
        "else:\n",
        "    print(number, \"is not an Armstrong number.\")\n",
        "\n"
      ]
    },
    {
      "cell_type": "code",
      "execution_count": null,
      "metadata": {
        "id": "ZhhGIkGm94tJ"
      },
      "outputs": [],
      "source": []
    },
    {
      "cell_type": "markdown",
      "metadata": {
        "id": "d91Zgv5sdFsS"
      },
      "source": [
        "05.23.2023"
      ]
    },
    {
      "cell_type": "code",
      "execution_count": null,
      "metadata": {
        "colab": {
          "base_uri": "https://localhost:8080/"
        },
        "id": "U_KTXh7LdKQz",
        "outputId": "d89634bb-d2ba-491c-c24c-2a1e165e1848"
      },
      "outputs": [
        {
          "name": "stdout",
          "output_type": "stream",
          "text": [
            "Max_speed:  150 and the mileage is:  102222\n"
          ]
        }
      ],
      "source": [
        "# Write a Python program to create a Vehicle class with max_speed and mileage instance attributes.\n",
        "class vehicle:\n",
        "  def __init__(self, max_speed, mileage):\n",
        "    self.max_speed = max_speed\n",
        "    self.mileage = mileage\n",
        "\n",
        "  def data(self):\n",
        "    print(\"Max_speed: \", self.max_speed, \"and the mileage is: \", self.mileage)\n",
        "    \n",
        "car=vehicle(150, 102222)\n",
        "car.data()  "
      ]
    },
    {
      "cell_type": "code",
      "execution_count": null,
      "metadata": {
        "colab": {
          "base_uri": "https://localhost:8080/"
        },
        "id": "a2ZvqVXTfzmw",
        "outputId": "fcbe74fd-4459-4ed9-f91f-4c4aea793a08"
      },
      "outputs": [
        {
          "name": "stdout",
          "output_type": "stream",
          "text": [
            "Model:  new model and the color is:  blue\n"
          ]
        }
      ],
      "source": [
        "# Create a child class Bus that will inherit all of the variables and methods of the Vehicle class\n",
        "class vehicle:\n",
        "  def __init__(self, Model, color):\n",
        "    self.Model = Model\n",
        "    self.color = color\n",
        "\n",
        "  def data(self):\n",
        "    print(\"Model: \", self.Model, \"and the color is: \", self.color)\n",
        "    \n",
        "class Bus(vehicle): # Grand Parent Class\n",
        "  pass\n",
        "\n",
        "bus=Bus(\"new model\", \"blue\")\n",
        "bus.data()  "
      ]
    },
    {
      "cell_type": "code",
      "execution_count": null,
      "metadata": {
        "id": "FuOweuQGk29Q"
      },
      "outputs": [],
      "source": [
        "# Create a Bus class that inherits from the Vehicle class. Give the capacity argument of Bus.seating_capacity() a default value of 50."
      ]
    },
    {
      "cell_type": "code",
      "execution_count": null,
      "metadata": {
        "colab": {
          "base_uri": "https://localhost:8080/"
        },
        "id": "GGNQyW4Rk5QD",
        "outputId": "98bc83da-bce3-4485-c7a2-32bebaea8f61"
      },
      "outputs": [
        {
          "name": "stdout",
          "output_type": "stream",
          "text": [
            "Sitting capacity:  50\n"
          ]
        }
      ],
      "source": [
        "class vehicle:# parent class\n",
        "  def __init__(self, sitting_capacity):\n",
        "    self.sitting_capacity = sitting_capacity\n",
        "\n",
        "  def display(self):\n",
        "    print(\"Sitting capacity: \", self.sitting_capacity)\n",
        "    \n",
        "class Bus(vehicle): # child class\n",
        "  pass\n",
        "\n",
        "bus=Bus(50)\n",
        "bus.display()  "
      ]
    },
    {
      "cell_type": "code",
      "execution_count": null,
      "metadata": {
        "colab": {
          "base_uri": "https://localhost:8080/"
        },
        "id": "aJudMauuqu5J",
        "outputId": "69ce8604-e472-4a6f-b627-767d026507b0"
      },
      "outputs": [
        {
          "name": "stdout",
          "output_type": "stream",
          "text": [
            " IT CAME IN INIT FOR CHILD CLASS\n",
            " IT CAME IN INIT FOR PARENT CLASS\n",
            "PARENT CLASS Capacity of Bus :- 50\n",
            "Seating capacity :- 50\n",
            "PARENT CLASS Capacity of Bus :- 100\n",
            "Seating capacity :- 100\n"
          ]
        }
      ],
      "source": [
        "# Create a Bus class that inherits from the Vehicle class. Give the capacity argument of Bus.seating_capacity() a default value of 50.\n",
        "class Vehicle:\n",
        "    def __init__(self, max_speed, mileage):\n",
        "        print(\" IT CAME IN INIT FOR PARENT CLASS\")\n",
        "        self.max_speed = max_speed\n",
        "        self.mileage = mileage\n",
        "        \n",
        "    def display(self):\n",
        "      print(\"Max Speed of Bus :-\",self.max_speed)\n",
        "      print(\"Milage of Bus :-\",self.mileage)\n",
        "    \n",
        "    def display_capcity(self,capcity):\n",
        "      print(\"PARENT CLASS Capacity of Bus :-\",capcity)\n",
        "\n",
        "class Bus(Vehicle):\n",
        "    def __init__(self, max_speed, mileage,capacity):\n",
        "      print(\" IT CAME IN INIT FOR CHILD CLASS\")\n",
        "      capacity=50\n",
        "      super().__init__(max_speed, mileage)\n",
        "      self.capacity=capacity\n",
        "    \n",
        "    def seating_capacity(self):\n",
        "        super().display_capcity(self.capacity)\n",
        "\n",
        "        print(\"Seating capacity :-\",self.capacity)\n",
        "\n",
        "School_bus = Bus(180, 12,50)\n",
        "#School_bus.display()\n",
        "School_bus.seating_capacity()\n",
        "\n",
        "\n",
        "School_bus.capacity=100\n",
        "School_bus.seating_capacity()"
      ]
    },
    {
      "cell_type": "markdown",
      "metadata": {
        "id": "ddC3mB7Dj9FW"
      },
      "source": [
        "05.23.2023\n",
        "# CASE STUDY\n",
        "\n",
        "Write a Python class Employee with attributes like emp_id, emp_name, emp_salary, and emp_department and methods like calculate_emp_salary, emp_assign_department, and print_employee_details.\n",
        "\n",
        "Use 'assign_department' method to change the department of an employee.\n",
        "\n",
        "Use 'print_employee_details' method to print the details of an employee.\n",
        "\n",
        "Use 'calculate_emp_salary' method takes two arguments: salary and hours_worked, which is the number of hours worked by the employee."
      ]
    },
    {
      "cell_type": "code",
      "execution_count": null,
      "metadata": {
        "id": "LD00ERBskE_M"
      },
      "outputs": [],
      "source": [
        "class Employee:\n",
        "  class emp_id(Employee):# Raised when input value is less than 19\n",
        "    pass\n",
        "class emp_named(Employee):# Raised when input value is not valid\n",
        "    pass\n",
        "class emp_salary(Employee):# Raised when input value is less than 160 and 150\n",
        "    pass\n",
        "class emp_department(Employee):# Raised when input value is not in range\n",
        "    pass\n",
        "class NationalityException(Exception):# Raised when input value is less than 19\n",
        "    pass            "
      ]
    },
    {
      "cell_type": "code",
      "execution_count": null,
      "metadata": {
        "colab": {
          "base_uri": "https://localhost:8080/"
        },
        "id": "mtK8qK_Im4f-",
        "outputId": "9e06849f-967e-4022-e651-f4b89fc54355"
      },
      "outputs": [
        {
          "name": "stdout",
          "output_type": "stream",
          "text": [
            "Emp ID:  E1\n",
            "Emp Name:  Kevin peter\n",
            "Emp Salary:  8000\n",
            "Emp Dept:  Eng\n",
            "---------------------------------\n",
            "Total Salary: 600\n",
            "Emp ID:  E1\n",
            "Emp Name:  Kevin peter\n",
            "Emp Salary:  8000\n",
            "Emp Dept:  Mnf\n",
            "---------------------------------\n"
          ]
        }
      ],
      "source": [
        "class Employee:\n",
        "    def __init__(self, emp_id, emp_name, emp_salary, emp_department):\n",
        "        self.emp_id = emp_id\n",
        "        self.emp_name = emp_name\n",
        "        self.emp_salary = emp_salary\n",
        "        self.emp_department = emp_department\n",
        "\n",
        "    def cal_emp_salary(self, salary, hours_worked):\n",
        "        Net_salary = salary * hours_worked\n",
        "        return Net_salary\n",
        "\n",
        "    def department(self, new_department):\n",
        "        \n",
        "        self.emp_department = new_department\n",
        "\n",
        "    def print_employee_details(self):\n",
        "        print(\"Emp ID: \", self.emp_id)\n",
        "        print(\"Emp Name: \", self.emp_name)\n",
        "        print(\"Emp Salary: \", self.emp_salary)\n",
        "        print(\"Emp Dept: \", self.emp_department)\n",
        "        print(\"---------------------------------\")\n",
        "\n",
        "\n",
        "emply1 = Employee(\"E1\", \"Kevin peter\", 8000, \"Eng\")\n",
        "emply1.print_employee_details()\n",
        "\n",
        "salary = 15\n",
        "hours_worked = 40\n",
        "Net_salary = emply1.cal_emp_salary(salary, hours_worked)\n",
        "print(\"Total Salary:\", Net_salary)\n",
        "\n",
        "emply1.department(\"Mnf\")\n",
        "emply1.print_employee_details()\n"
      ]
    },
    {
      "cell_type": "code",
      "execution_count": null,
      "metadata": {
        "id": "EmEOZ5-NwK0W"
      },
      "outputs": [],
      "source": [
        "# # Write a function which takes in 5 arguments id,first name,last name,salary,department and puts all details in list if ID already not exists"
      ]
    },
    {
      "cell_type": "code",
      "execution_count": null,
      "metadata": {
        "colab": {
          "base_uri": "https://localhost:8080/"
        },
        "id": "DFls3qNuwMbX",
        "outputId": "9b20a0c8-791f-46e7-feb1-e640b15228fc"
      },
      "outputs": [
        {
          "output_type": "stream",
          "name": "stdout",
          "text": [
            "Employee with ID 1 added successfully.\n",
            "Employee with ID 2 added successfully.\n",
            "Employee with ID 3 added successfully.\n",
            "Employee with ID 2 already exists\n"
          ]
        }
      ],
      "source": [
        "list1 = []\n",
        "\n",
        "def add_employee_details(id, first_name, last_name, salary, department):\n",
        "    for employee in list1:\n",
        "        if employee[0] == id:\n",
        "            print(\"Employee with ID\",id, 'already exists')\n",
        "            return\n",
        "\n",
        "    list1.append([id, first_name, last_name, salary, department])\n",
        "    print(\"Employee with ID\",id, \"added successfully.\")\n",
        "\n",
        "add_employee_details(1, \"Moe\", \"Ray\", 10000, \"Mnf\")\n",
        "add_employee_details(2, \"Joe\", \"lim\", 12000, \"Eng\")\n",
        "add_employee_details(3, \"Allen\", \"steve\", 15000, \"Data_Sci\")\n",
        "add_employee_details(2, \"Dev\", \"Kate\", 8000, \"adm\")\n"
      ]
    },
    {
      "cell_type": "code",
      "execution_count": null,
      "metadata": {
        "id": "01exvIZE1MkT"
      },
      "outputs": [],
      "source": [
        "def add_employee(first_name,last_name,emp_id,salary,department):\n",
        "  if emp_id not in emp_id_list:\n",
        "    emp_first_name_list.append(first_name)\n",
        "    emp_last_name_list.append(last_name)\n",
        "    emp_id_list.append(emp_id)\n",
        "    emp_salary_list.append(salary)\n",
        "    emp_department_list.append(department)\n",
        "  else:\n",
        "    print(\"Employee ID Already Exists Try updating the details for the Employee\")\n"
      ]
    },
    {
      "cell_type": "code",
      "execution_count": null,
      "metadata": {
        "colab": {
          "background_save": true,
          "base_uri": "https://localhost:8080/"
        },
        "id": "otPr69d21OFt",
        "outputId": "4760411d-f39a-417b-ee36-a74f83854d99"
      },
      "outputs": [
        {
          "name": "stdout",
          "output_type": "stream",
          "text": [
            "1) Add Employee \n",
            "2) Remove Employee by ID \n",
            "3) Remove Employee by name \n",
            "4) Update details of Employee by Id\n",
            "5) Display details of Employee by Id\n",
            "6) Display details of all Employee \n",
            "7) Exit the EMS system \n",
            "Confirmation that record is added ['Sher']\n",
            "1) Add Employee \n",
            "2) Remove Employee by ID \n",
            "3) Remove Employee by name \n",
            "4) Update details of Employee by Id\n",
            "5) Display details of Employee by Id\n",
            "6) Display details of all Employee \n",
            "7) Exit the EMS system \n"
          ]
        }
      ],
      "source": [
        "user_input=-1\n",
        "\n",
        "while user_input!=7:\n",
        "  emp_first_name_list=[]\n",
        "  emp_last_name_list=[]\n",
        "  emp_id_list=[]\n",
        "  emp_salary_list=[]\n",
        "  emp_department_list=[]\n",
        "\n",
        "  print(\"1) Add Employee \")\n",
        "  print(\"2) Remove Employee by ID \")\n",
        "  print(\"3) Remove Employee by name \")\n",
        "  print(\"4) Update details of Employee by Id\")\n",
        "  print(\"5) Display details of Employee by Id\")\n",
        "  print(\"6) Display details of all Employee \")\n",
        "  print(\"7) Exit the EMS system \")\n",
        "\n",
        "  user_input=int(input(\"Please enter a choice between 1-7\"))\n",
        "  \n",
        "  if user_input==1:\n",
        "    first_name= input(\"Please enter the first name \")\n",
        "    last_name= input(\"Please enter the last name \")\n",
        "    salary= input(\"Please enter the salary \")\n",
        "    empy_id= input(\"Please enter the Employee ID \")\n",
        "    department= input(\"Please enter the Department \")\n",
        "    add_employee(first_name,last_name,salary,empy_id,department)\n",
        "    print(\"Confirmation that record is added\",emp_first_name_list)\n",
        "\n",
        "  elif user_input==7:\n",
        "    print(\"Bye\")"
      ]
    },
    {
      "cell_type": "code",
      "source": [
        "05.24.2023"
      ],
      "metadata": {
        "id": "Mo22P8cSuGqk"
      },
      "execution_count": null,
      "outputs": []
    },
    {
      "cell_type": "code",
      "source": [
        "def add_employee(first_name,last_name,emp_id,salary,department):\n",
        "  if emp_id not in emp_id_list:\n",
        "    emp_first_name_list.append(first_name)\n",
        "    emp_last_name_list.append(last_name)\n",
        "    emp_id_list.append(emp_id)\n",
        "    emp_salary_list.append(salary)\n",
        "    emp_department_list.append(department)\n",
        "    print(\"Record Added Successfully\")\n",
        "  else:\n",
        "    print(\"Employee ID Already Exists Try updating the details for the Employee\")\n",
        "\n",
        "def remove_employee_by_id(emp_id):\n",
        "  try:\n",
        "    index_to_remove=emp_id_list.index(emp_id)\n",
        "    emp_first_name_list.pop(index_to_remove)\n",
        "    emp_last_name_list.pop(index_to_remove)\n",
        "    emp_id_list.pop(index_to_remove)\n",
        "    emp_salary_list.pop(index_to_remove)\n",
        "    emp_department_list.pop(index_to_remove)\n",
        "    print(\"Employee Removed Successfully !!\")\n",
        "  except :\n",
        "    print(\"Id Doesnt not Exists Please verify the input once\")\n"
      ],
      "metadata": {
        "id": "sstIdAnBuLpS"
      },
      "execution_count": null,
      "outputs": []
    },
    {
      "cell_type": "code",
      "source": [
        "user_input=-1\n",
        "emp_first_name_list=[]\n",
        "emp_last_name_list=[]\n",
        "emp_id_list=[]\n",
        "emp_salary_list=[]\n",
        "emp_department_list=[]\n",
        "while user_input!=7:\n",
        "\n",
        "  print(\"\\n\")\n",
        "  print(\"1) Add Employee\")\n",
        "  print(\"2) Remove Employee by id \")\n",
        "  print(\"3) Remove Employee by name \")\n",
        "  print(\"4) Update Details of Employee by ID \")\n",
        "  print(\"5) Display details of Employee by ID \")\n",
        "  print(\"6) Display details of ALL Employee \")\n",
        "  print(\"7) Exit the EMS system\")\n",
        "\n",
        "  user_input=int(input(\"Please enter a Choice between 1-7 :- \"))\n",
        "  \n",
        "  if user_input==1:\n",
        "\n",
        "    first_name= input(\"Please enter the first name \")\n",
        "    last_name= input(\"Please enter the last name \")\n",
        "    salary= input(\"Please enter the salary \")\n",
        "    empy_id= input(\"Please enter the Employee ID \")\n",
        "    department= input(\"Please enter the Department \")\n",
        "    add_employee(first_name,last_name,empy_id,salary,department)\n",
        "    print(\"Confirmation that record is added\",emp_first_name_list)\n",
        "  elif user_input==2:\n",
        "    empy_id= input(\"Please enter the Employee ID to Remove :- \")\n",
        "    remove_employee_by_id(empy_id)\n",
        "  elif user_input==5:\n",
        "    empy_id= input(\"Please enter the Employee ID you want to check details for :- \")\n",
        "    print_record_by_id(empy_id)\n",
        "\n",
        "  elif user_input==7:\n",
        "    print(\"Bye\")"
      ],
      "metadata": {
        "colab": {
          "base_uri": "https://localhost:8080/"
        },
        "id": "hZEAI3uvu3jc",
        "outputId": "423bd884-59b9-42f8-a7c6-cf22639d8597"
      },
      "execution_count": null,
      "outputs": [
        {
          "metadata": {
            "tags": null
          },
          "name": "stdout",
          "output_type": "stream",
          "text": [
            "\n",
            "\n",
            "1) Add Employee\n",
            "2) Remove Employee by id \n",
            "3) Remove Employee by name \n",
            "4) Update Details of Employee by ID \n",
            "5) Display details of Employee by ID \n",
            "6) Display details of ALL Employee \n",
            "7) Exit the EMS system\n",
            "Id Doesnt not Exists Please verify the input once\n",
            "\n",
            "\n",
            "1) Add Employee\n",
            "2) Remove Employee by id \n",
            "3) Remove Employee by name \n",
            "4) Update Details of Employee by ID \n",
            "5) Display details of Employee by ID \n",
            "6) Display details of ALL Employee \n",
            "7) Exit the EMS system\n",
            "Id Doesnt not Exists Please verify the input once\n",
            "\n",
            "\n",
            "1) Add Employee\n",
            "2) Remove Employee by id \n",
            "3) Remove Employee by name \n",
            "4) Update Details of Employee by ID \n",
            "5) Display details of Employee by ID \n",
            "6) Display details of ALL Employee \n",
            "7) Exit the EMS system\n"
          ]
        }
      ]
    },
    {
      "cell_type": "code",
      "source": [
        "def add_employee(first_name,last_name,emp_id,salary,department):\n",
        "  if emp_id not in emp_id_list:\n",
        "    emp_first_name_list.append(first_name)\n",
        "    emp_last_name_list.append(last_name)\n",
        "    emp_id_list.append(emp_id)\n",
        "    emp_salary_list.append(salary)\n",
        "    emp_department_list.append(department)\n",
        "    print(\"Record Added Successfully\")\n",
        "  else:\n",
        "    print(\"Employee ID Already Exists Try updating the details for the Employee\")\n",
        "\n",
        "def remove_employee_by_id(emp_id):\n",
        "  try:\n",
        "    index_to_remove=emp_id_list.index(emp_id)\n",
        "    emp_first_name_list.pop(index_to_remove)\n",
        "    emp_last_name_list.pop(index_to_remove)\n",
        "    emp_id_list.pop(index_to_remove)\n",
        "    emp_salary_list.pop(index_to_remove)\n",
        "    emp_department_list.pop(index_to_remove)\n",
        "    print(\"Employee Removed Successfully !!\")\n",
        "  except :\n",
        "    print(\"Id Doesnt not Exists Please verify the input once\")\n",
        "\n",
        "def update_details_by_id(emp_id):\n",
        "  if emp_id in emp_id_list:\n",
        "    emp_first_name_list.index(first_name)\n",
        "    emp_last_name_list.index(last_name)\n",
        "    emp_id_list.index(emp_id)\n",
        "    emp_salary_list.index(salary)\n",
        "    emp_department_list.index(department)\n",
        "    print(\"Details Added Successfully\")\n",
        "  else:\n",
        "    print(\"Employee ID not Exists Try updating the details for the Employee\")"
      ],
      "metadata": {
        "id": "om6eihWZ4jqO"
      },
      "execution_count": null,
      "outputs": []
    },
    {
      "cell_type": "code",
      "source": [
        "user_input=-1\n",
        "emp_first_name_list=[]\n",
        "emp_last_name_list=[]\n",
        "emp_id_list=[]\n",
        "emp_salary_list=[]\n",
        "emp_department_list=[]\n",
        "while user_input!=7:\n",
        "\n",
        "  print(\"\\n\")\n",
        "  print(\"1) Add Employee\")\n",
        "  print(\"2) Remove Employee by id \")\n",
        "  print(\"3) Remove Employee by name \")\n",
        "  print(\"4) Update Details of Employee by ID \")\n",
        "  print(\"5) Display details of Employee by ID \")\n",
        "  print(\"6) Display details of ALL Employee \")\n",
        "  print(\"7) Exit the EMS system\")\n",
        "\n",
        "  user_input=int(input(\"Please enter a Choice between 1-7 :- \"))\n",
        "  \n",
        "  if user_input==3:\n",
        "\n",
        "    first_name= input(\"Please enter the first name \")\n",
        "    last_name= input(\"Please enter the last name \")\n",
        "    salary= input(\"Please enter the salary \")\n",
        "    empy_id= input(\"Please enter the Employee ID \")\n",
        "    department= input(\"Please enter the Department \")\n",
        "    add_employee(first_name,last_name,empy_id,salary,department)\n",
        "    print(\"Confirmation that record is added\",emp_first_name_list)\n",
        "  elif user_input==2:\n",
        "    empy_id= input(\"Please enter the Employee ID to Remove :- \")\n",
        "    remove_employee_by_id(empy_id)\n",
        "  elif user_input==5:\n",
        "    empy_id= input(\"Please enter the Employee ID you want to check details for :- \")\n",
        "    print_record_by_id(empy_id)\n",
        "\n",
        "  elif user_input==7:\n",
        "    print(\"Bye\")"
      ],
      "metadata": {
        "colab": {
          "base_uri": "https://localhost:8080/"
        },
        "id": "w2pgITPB89Wz",
        "outputId": "f63f39fc-55eb-4dce-f9fe-db420e4dd686"
      },
      "execution_count": null,
      "outputs": [
        {
          "metadata": {
            "tags": null
          },
          "name": "stdout",
          "output_type": "stream",
          "text": [
            "\n",
            "\n",
            "1) Add Employee\n",
            "2) Remove Employee by id \n",
            "3) Remove Employee by name \n",
            "4) Update Details of Employee by ID \n",
            "5) Display details of Employee by ID \n",
            "6) Display details of ALL Employee \n",
            "7) Exit the EMS system\n"
          ]
        }
      ]
    },
    {
      "cell_type": "code",
      "source": [
        "abcd=[11,22,33,44,55]\n",
        "abcd.index(22)"
      ],
      "metadata": {
        "id": "zaPf8R457g2Y",
        "colab": {
          "base_uri": "https://localhost:8080/"
        },
        "outputId": "45fd31d9-d19f-448e-8fee-d3c8a9213997"
      },
      "execution_count": 1,
      "outputs": [
        {
          "output_type": "execute_result",
          "data": {
            "text/plain": [
              "1"
            ]
          },
          "metadata": {},
          "execution_count": 1
        }
      ]
    },
    {
      "cell_type": "code",
      "source": [
        "# Remove Employee by name\n",
        "\n",
        "# at first two inputs first name and last name\n",
        "\n",
        "# if 1 record with first and last name found remove directly\n",
        "\n",
        "# if no matching record show user wrong input\n",
        "\n",
        "# match all the records with same name\n",
        "\n",
        "# print out the ids of employees with same name\n",
        "\n",
        "# ask for id which needs to be removed\n",
        "\n",
        "# Both Rohit sharma records and prints their IDS and ask which id is to be removed"
      ],
      "metadata": {
        "id": "C-zDoB9FCrLW"
      },
      "execution_count": null,
      "outputs": []
    },
    {
      "cell_type": "code",
      "source": [
        "x = -5j\n",
        "print(x)\n",
        "print(type(x))\n",
        "\n"
      ],
      "metadata": {
        "colab": {
          "base_uri": "https://localhost:8080/"
        },
        "id": "WhX6_9lUAj4s",
        "outputId": "44b41bdf-289b-4c0a-dcfa-c6fbb380bf83"
      },
      "execution_count": 2,
      "outputs": [
        {
          "output_type": "stream",
          "name": "stdout",
          "text": [
            "(-0-5j)\n",
            "<class 'complex'>\n"
          ]
        }
      ]
    }
  ],
  "metadata": {
    "colab": {
      "provenance": []
    },
    "kernelspec": {
      "display_name": "Python 3",
      "name": "python3"
    },
    "language_info": {
      "name": "python"
    }
  },
  "nbformat": 4,
  "nbformat_minor": 0
}