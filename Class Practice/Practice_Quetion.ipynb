{
  "nbformat": 4,
  "nbformat_minor": 0,
  "metadata": {
    "colab": {
      "provenance": []
    },
    "kernelspec": {
      "name": "python3",
      "display_name": "Python 3"
    },
    "language_info": {
      "name": "python"
    }
  },
  "cells": [
    {
      "cell_type": "code",
      "execution_count": null,
      "metadata": {
        "colab": {
          "base_uri": "https://localhost:8080/"
        },
        "id": "6r99cRZxQMuD",
        "outputId": "e644dfa0-3e47-4c2c-821b-51fafa43ac16"
      },
      "outputs": [
        {
          "output_type": "stream",
          "name": "stdout",
          "text": [
            "UDEx: Invalid Nationality.\n"
          ]
        }
      ],
      "source": [
        "class UDException(Exception):\n",
        "    pass\n",
        "def validate_users(age,gender,height,weight,nationality):\n",
        "    if age < 19:\n",
        "      raise UDException(\"UDEx: Invalid age.\")\n",
        "    if gender != 'male' and gender != 'female':\n",
        "      raise UDException(\"UDEx: Invalid gender.\")\n",
        "    if gender == 'male' and height >= 160:\n",
        "      raise UDException(\"UDEx: Invalid height for male.\")\n",
        "    if gender == 'female' and height >= 150:\n",
        "      raise UDException(\"UDEx: Invalid height for female.\")\n",
        "    if gender == 'male' and weight <=72 and weight >=65:\n",
        "      raise UDException(\"UDEx: Invalid weight for male.\")\n",
        "    if gender == 'female' and weight <=65 and weight >=55:\n",
        "      raise UDException(\"UDEx: Invalid weight for female.\")\n",
        "    if nationality == 'USA':\n",
        "      raise UDException(\"UDEx: Invalid Nationality.\")\n",
        "    print(\"Valid Users.\")\n",
        "\n",
        "try:\n",
        "    validate_users(19,'male',155,60,'USA')\n",
        "except UDException as e:\n",
        "    print(e)"
      ]
    },
    {
      "cell_type": "code",
      "source": [
        "class UDException(Exception):\n",
        "    pass\n",
        "\n",
        "def validate_users(age,gender,height,weight,nationality):\n",
        "    if age < 19:\n",
        "      raise UDException\n",
        "      print(\"UDEx: Invalid age\")\n",
        "\n",
        "    if gender != 'M' and gender != 'F':\n",
        "      raise UDException\n",
        "      print(\"UDEx: Invalid gender\")\n",
        "\n",
        "    if gender == 'M' and height >= 160:\n",
        "      raise UDException\n",
        "      print(\"UDEx: Invalid height for male gender\")\n",
        "\n",
        "    if gender == 'F' and height >= 150:\n",
        "      raise UDException\n",
        "      print(\"UDEx: Invalid height for female gender\")\n",
        "\n",
        "    if gender == 'M' and weight <=72 and weight >=65:\n",
        "      raise UDException\n",
        "      print(\"UDEx: Invalid weight for male gender\")\n",
        "\n",
        "    if gender == 'F' and weight <=65 and weight >=55:\n",
        "      raise UDException\n",
        "      print(\"UDEx: Invalid wight for femal gender\")\n",
        "\n",
        "    if nationality == 'USA':\n",
        "      #print(\"UDEx: Invalid nationality\")\n",
        "      raise UDException(\"UDEx: Invalid nationality\")\n",
        "\n",
        "    print(\"User is valid\")\n",
        "try:\n",
        "    validate_users(20,'M',150,75,'USA')\n",
        "except UDException as e:\n",
        "    print(e)"
      ],
      "metadata": {
        "colab": {
          "base_uri": "https://localhost:8080/"
        },
        "id": "ASXQ8Rj6QYkg",
        "outputId": "429df8c1-b3ba-4807-9ebd-deb79d5596ab"
      },
      "execution_count": null,
      "outputs": [
        {
          "output_type": "stream",
          "name": "stdout",
          "text": [
            "UDEx: Invalid nationality\n"
          ]
        }
      ]
    }
  ]
}