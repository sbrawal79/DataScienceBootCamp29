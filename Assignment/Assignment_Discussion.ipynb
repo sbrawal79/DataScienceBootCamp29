{
  "nbformat": 4,
  "nbformat_minor": 0,
  "metadata": {
    "colab": {
      "provenance": []
    },
    "kernelspec": {
      "name": "python3",
      "display_name": "Python 3"
    },
    "language_info": {
      "name": "python"
    }
  },
  "cells": [
    {
      "cell_type": "code",
      "execution_count": null,
      "metadata": {
        "id": "TbofDlOpg27z",
        "colab": {
          "base_uri": "https://localhost:8080/"
        },
        "outputId": "1898aaac-25bc-4291-bdc7-2ea0d3e69034"
      },
      "outputs": [
        {
          "output_type": "stream",
          "name": "stdout",
          "text": [
            "Value of x: 10\n",
            "Value of y: 5\n"
          ]
        }
      ],
      "source": [
        "x = 5\n",
        "y = 10\n",
        "\n",
        "temp = x\n",
        "x = y\n",
        "y = temp\n",
        "\n",
        "print(\"Value of x:\", x)\n",
        "print(\"Value of y:\", y)"
      ]
    },
    {
      "cell_type": "code",
      "source": [
        "x = 10\n",
        "y = 50\n",
        "\n",
        "# sum of two numbers\n",
        "# if we minus 1st number from sum we get second number\n",
        "# if we minus 2nd number from sum we get 1st number\n",
        "x = x + y\n",
        "y = x - y\n",
        "x = x - y\n",
        "print(\"Value of x:\", x)\n",
        "print(\"Value of y:\", y)"
      ],
      "metadata": {
        "id": "GI6OPRzrg59o",
        "colab": {
          "base_uri": "https://localhost:8080/"
        },
        "outputId": "1b6500ad-f3cd-433e-f2f2-1128f1b9b1f2"
      },
      "execution_count": null,
      "outputs": [
        {
          "output_type": "stream",
          "name": "stdout",
          "text": [
            "Value of x: 50\n",
            "Value of y: 10\n"
          ]
        }
      ]
    },
    {
      "cell_type": "code",
      "source": [
        "# Remove duplicate elements from a list without converting to tuple\n",
        "test_list = [1, 5, 3, 6, 3, 5, 6, 1]\n",
        "\n",
        "print (\"The original list is : \",test_list)\n",
        "test_list = list(set(test_list))\n",
        "print (\"The list after removing duplicates : \",test_list)"
      ],
      "metadata": {
        "id": "nOFThZcBhGuJ",
        "colab": {
          "base_uri": "https://localhost:8080/"
        },
        "outputId": "ae8def11-69e5-48a5-c22d-61f6de94b8e0"
      },
      "execution_count": null,
      "outputs": [
        {
          "output_type": "stream",
          "name": "stdout",
          "text": [
            "The original list is :  [1, 5, 3, 6, 3, 5, 6, 1]\n",
            "The list after removing duplicates :  [1, 3, 5, 6]\n"
          ]
        }
      ]
    },
    {
      "cell_type": "code",
      "source": [
        "gcd = 0\n",
        "print(\"Enter two numbers\")\n",
        "a = int(input())\n",
        "b = int(input())\n",
        "i = 1\n",
        "while(i <= a and i <= b):\n",
        "  if((a % i == 0) and (b % i == 0)):\n",
        "    print(\"The value of i is divisble\",i)\n",
        "    gcd = i\n",
        "  i = i + 1\n",
        "\n",
        "print(\"GCD : \",gcd)"
      ],
      "metadata": {
        "colab": {
          "base_uri": "https://localhost:8080/"
        },
        "id": "upgud20ChWDZ",
        "outputId": "1a15f352-1eb4-439b-a2bc-c7158e580373"
      },
      "execution_count": null,
      "outputs": [
        {
          "output_type": "stream",
          "name": "stdout",
          "text": [
            "Enter two numbers\n",
            "20\n",
            "28\n",
            "The value of i is divisble 1\n",
            "The value of i is divisble 2\n",
            "The value of i is divisble 4\n",
            "GCD :  4\n"
          ]
        }
      ]
    },
    {
      "cell_type": "code",
      "source": [
        "# Write a loop to print following series\n",
        "# 10, 20, 30,  …………………, 300\n",
        "\n",
        "for k in range(1,31):\n",
        "  print(k*10,end=\",\")"
      ],
      "metadata": {
        "colab": {
          "base_uri": "https://localhost:8080/"
        },
        "id": "0LoYEhMLhzBw",
        "outputId": "331a2895-85f4-4884-9b1e-3d3450429d1d"
      },
      "execution_count": null,
      "outputs": [
        {
          "output_type": "stream",
          "name": "stdout",
          "text": [
            "10,20,30,40,50,60,70,80,90,100,110,120,130,140,150,160,170,180,190,200,210,220,230,240,250,260,270,280,290,300,"
          ]
        }
      ]
    },
    {
      "cell_type": "code",
      "source": [
        "# Write a loop to print following series\n",
        "# 105,98,91,………………………,7\n",
        "\n",
        "for k in range(105,6,-7):\n",
        "  print(k,end=\",\")"
      ],
      "metadata": {
        "colab": {
          "base_uri": "https://localhost:8080/"
        },
        "id": "QbSVwFzRjoMo",
        "outputId": "2535006e-abab-4afc-c7d5-e5adbed72b16"
      },
      "execution_count": null,
      "outputs": [
        {
          "output_type": "stream",
          "name": "stdout",
          "text": [
            "105,98,91,84,77,70,63,56,49,42,35,28,21,14,7,"
          ]
        }
      ]
    },
    {
      "cell_type": "code",
      "source": [
        "def printValue(digit):\n",
        "\n",
        "  # Switch block to check for each digit c\n",
        "\n",
        "  # For digit 0\n",
        "  if digit == '0':\n",
        "      print(\"Zero \", end = \" \")\n",
        "\n",
        "  # For digit 1\n",
        "  elif digit == '1':\n",
        "      print(\"One \", end = \" \")\n",
        "\n",
        "  # For digit 2\n",
        "  elif digit == '2':\n",
        "      print(\"Two \", end = \" \")\n",
        "\n",
        "  #For digit 3\n",
        "  elif digit=='3':\n",
        "      print(\"Three\",end=\" \")\n",
        "\n",
        "  # For digit 4\n",
        "  elif digit == '4':\n",
        "      print(\"Four \", end = \" \")\n",
        "\n",
        "  # For digit 5\n",
        "  elif digit == '5':\n",
        "      print(\"Five \", end = \" \")\n",
        "\n",
        "  # For digit 6\n",
        "  elif digit == '6':\n",
        "      print(\"Six \", end = \" \")\n",
        "\n",
        "  # For digit 7\n",
        "  elif digit == '7':\n",
        "      print(\"Seven\", end = \" \")\n",
        "\n",
        "  # For digit 8\n",
        "  elif digit == '8':\n",
        "      print(\"Eight\", end = \" \")\n",
        "\n",
        "  # For digit 9\n",
        "  elif digit == '9':\n",
        "      print(\"Nine \", end = \" \")\n",
        "\n",
        "a={1:\"one\",2:\"two\",3:\"three\"}\n",
        "def printWord(N):\n",
        "  for k in N:\n",
        "    print(a[int(k)],end=\" \")\n",
        "\n",
        "N = \"123\"\n",
        "printWord(N)"
      ],
      "metadata": {
        "colab": {
          "base_uri": "https://localhost:8080/"
        },
        "id": "MUpvLxedj0f_",
        "outputId": "fc89e04b-7c9b-4ec1-cb74-ddef3173b631"
      },
      "execution_count": null,
      "outputs": [
        {
          "output_type": "stream",
          "name": "stdout",
          "text": [
            "one two three "
          ]
        }
      ]
    },
    {
      "cell_type": "code",
      "source": [
        "# Write a program to print fibonacci series upto n terms in python\n",
        "num = 50\n",
        "n1, n2 = 0, 1\n",
        "print(\"Fibonacci Series:\", n1, n2, end=\" \")\n",
        "for i in range(2, num):\n",
        "    n3 = n1 + n2\n",
        "    n1 = n2\n",
        "    n2 = n3\n",
        "    print(n3, end=\" \")"
      ],
      "metadata": {
        "colab": {
          "base_uri": "https://localhost:8080/"
        },
        "id": "vrFAjhPbkPEX",
        "outputId": "0dbf4001-99ea-41a0-8dc2-8a454de11ebc"
      },
      "execution_count": null,
      "outputs": [
        {
          "output_type": "stream",
          "name": "stdout",
          "text": [
            "Fibonacci Series: 0 1 1 2 3 5 8 13 21 34 55 89 144 233 377 610 987 1597 2584 4181 6765 10946 17711 28657 46368 75025 121393 196418 317811 514229 832040 1346269 2178309 3524578 5702887 9227465 14930352 24157817 39088169 63245986 102334155 165580141 267914296 433494437 701408733 1134903170 1836311903 2971215073 4807526976 7778742049 "
          ]
        }
      ]
    },
    {
      "cell_type": "code",
      "source": [
        "#Write a program to print factorial of a number\n",
        "#factorial of 55*4*3*2*1\n",
        "\n",
        "num = int(input(\"Enter a number: \"))\n",
        "factorial = 1\n",
        "\n",
        "# check if the number is negative, positive or zero\n",
        "if num < 0:\n",
        "   print(\"Sorry, factorial does not exist for negative numbers\")\n",
        "elif num == 0:\n",
        "   print(\"The factorial of 0 is 1\")\n",
        "else:\n",
        "   for i in range(1,num + 1):\n",
        "       factorial = factorial*i\n",
        "   print(\"The factorial of\",num,\"is\",factorial)"
      ],
      "metadata": {
        "id": "fvItjR9vkZA2",
        "colab": {
          "base_uri": "https://localhost:8080/"
        },
        "outputId": "eeab7c27-c459-4b15-9f18-9f06fb92304b"
      },
      "execution_count": null,
      "outputs": [
        {
          "output_type": "stream",
          "name": "stdout",
          "text": [
            "Enter a number: 5\n",
            "The factorial of 5 is 120\n"
          ]
        }
      ]
    },
    {
      "cell_type": "code",
      "source": [
        "# Write a program to print factorial of a number\n",
        "# 153 %10 =3\n",
        "\n",
        "num = int(input(\"Enter a number: \"))\n",
        "sum = 0\n",
        "get_length=0\n",
        "\n",
        "temp = num\n",
        "\n",
        "while temp > 0:\n",
        "   digit = temp % 10\n",
        "   sum = sum+ digit ** len(str(num))\n",
        "   temp = temp//10\n",
        "\n",
        "if num == sum:\n",
        "   print(num,\"is an Armstrong number\")\n",
        "else:\n",
        "   print(num,\"is not an Armstrong number\")"
      ],
      "metadata": {
        "id": "Pwx6g-41kn5o",
        "colab": {
          "base_uri": "https://localhost:8080/"
        },
        "outputId": "e0c517f3-62ca-4145-b104-dd504fadd976"
      },
      "execution_count": null,
      "outputs": [
        {
          "output_type": "stream",
          "name": "stdout",
          "text": [
            "Enter a number: 421\n",
            "421 is not an Armstrong number\n"
          ]
        }
      ]
    },
    {
      "cell_type": "code",
      "source": [
        "b_num = int(input(\"Input a binary number: \"))\n",
        "power = 0\n",
        "sum=0\n",
        "# 10011\n",
        "\n",
        "while b_num>0:\n",
        "\ta=b_num%10\n",
        "\tsum=sum+a*(2**power)\n",
        "\tb_num=b_num//10\n",
        "\tpower=power+1\n",
        "\n",
        "print(sum)"
      ],
      "metadata": {
        "colab": {
          "base_uri": "https://localhost:8080/"
        },
        "id": "DRCJL8pyksRf",
        "outputId": "b75dee6b-e2a4-48ab-84b9-347be15a7199"
      },
      "execution_count": null,
      "outputs": [
        {
          "output_type": "stream",
          "name": "stdout",
          "text": [
            "Input a binary number: 10011\n",
            "19\n"
          ]
        }
      ]
    },
    {
      "cell_type": "code",
      "source": [
        "# #10011 give back 19\n",
        "binary=[]\n",
        "dec_val = 19\n",
        "\n",
        "while dec_val>0:\n",
        "  remainder=str(dec_val%2)\n",
        "  binary.append(remainder)\n",
        "  dec_val=dec_val//2\n",
        "\n",
        "binary.reverse()\n",
        "print(\"\".join(binary))"
      ],
      "metadata": {
        "id": "K_GjqSPZlMYo",
        "colab": {
          "base_uri": "https://localhost:8080/"
        },
        "outputId": "6db5b893-0305-4022-b799-0c615ffcc3fd"
      },
      "execution_count": null,
      "outputs": [
        {
          "output_type": "stream",
          "name": "stdout",
          "text": [
            "10011\n"
          ]
        }
      ]
    },
    {
      "cell_type": "code",
      "source": [
        "def checkpalindrom(num):\n",
        "   a = 0\n",
        "   c = num\n",
        "   while num > 0:\n",
        "      r = num % 10\n",
        "      num = num // 10\n",
        "      a = (10 * a) + r\n",
        "   if a == c:\n",
        "      print(\"Number is Palindrom\")\n",
        "   else:\n",
        "      print(\"Number is Not a Palindrom\")\n",
        "\n",
        "num = 25352\n",
        "checkpalindrom(num)"
      ],
      "metadata": {
        "colab": {
          "base_uri": "https://localhost:8080/"
        },
        "id": "7Ok59D2llPPH",
        "outputId": "e6f6fcbb-4935-4bc0-dee4-116535834af6"
      },
      "execution_count": null,
      "outputs": [
        {
          "output_type": "stream",
          "name": "stdout",
          "text": [
            "Number is Palindrom\n"
          ]
        }
      ]
    },
    {
      "cell_type": "code",
      "source": [
        "# Write a program to print all numbers which are divisible by 13 but not by 3 between 100 and 500\n",
        "for k in range(101,501):\n",
        "  if k%13==0 and k%3!=0:\n",
        "      print(k)"
      ],
      "metadata": {
        "colab": {
          "base_uri": "https://localhost:8080/"
        },
        "id": "H83cIzRulbbn",
        "outputId": "508298bd-c03f-4b8d-af2b-0335968ac64f"
      },
      "execution_count": null,
      "outputs": [
        {
          "output_type": "stream",
          "name": "stdout",
          "text": [
            "104\n",
            "130\n",
            "143\n",
            "169\n",
            "182\n",
            "208\n",
            "221\n",
            "247\n",
            "260\n",
            "286\n",
            "299\n",
            "325\n",
            "338\n",
            "364\n",
            "377\n",
            "403\n",
            "416\n",
            "442\n",
            "455\n",
            "481\n",
            "494\n"
          ]
        }
      ]
    },
    {
      "cell_type": "code",
      "source": [
        "temp = int(input(\"Input the  temperature you like to convert : \"))\n",
        "degree = temp\n",
        "i_convention = input(\"convert the temprature to? options (Celsius,Fahrenheit)\")\n",
        "\n",
        "if i_convention.lower() == \"celsius\":\n",
        "  result = round((9 * degree) / 5 + 32)\n",
        "\n",
        "elif i_convention.lower() == \"fahrenheit\":\n",
        "  result = round((degree - 32) * 5 / 9)\n",
        "\n",
        "print(\"The temperature in\", i_convention, \"is\", result, \"degrees.\")"
      ],
      "metadata": {
        "id": "6Q5W7-9Tlq0H",
        "colab": {
          "base_uri": "https://localhost:8080/"
        },
        "outputId": "e147023e-3166-4c76-d502-5668b4e80813"
      },
      "execution_count": null,
      "outputs": [
        {
          "output_type": "stream",
          "name": "stdout",
          "text": [
            "Input the  temperature you like to convert : 45\n",
            "convert the temprature to? options (Celsius,Fahrenheit)fahrenheit\n",
            "The temperature in fahrenheit is 7 degrees.\n"
          ]
        }
      ]
    },
    {
      "cell_type": "code",
      "source": [
        "row_num = int(input(\"Input number of rows: \"))\n",
        "col_num = int(input(\"Input number of columns: \"))\n",
        "\n",
        "# 2d list list[0][1]\n",
        "grid = []\n",
        "for i in range(row_num):\n",
        "    row = []\n",
        "    for j in range(col_num):\n",
        "        row.append(i * j)\n",
        "    grid.append(row)\n",
        "    print(row)"
      ],
      "metadata": {
        "colab": {
          "base_uri": "https://localhost:8080/"
        },
        "id": "mynnQacmmXGf",
        "outputId": "5a94a37d-6904-4352-8fd5-e6b40781f9e3"
      },
      "execution_count": null,
      "outputs": [
        {
          "output_type": "stream",
          "name": "stdout",
          "text": [
            "Input number of rows: 5\n",
            "Input number of columns: 5\n",
            "[0, 0, 0, 0, 0]\n",
            "[0, 1, 2, 3, 4]\n",
            "[0, 2, 4, 6, 8]\n",
            "[0, 3, 6, 9, 12]\n",
            "[0, 4, 8, 12, 16]\n"
          ]
        }
      ]
    },
    {
      "cell_type": "code",
      "source": [
        "s = input(\"Input a string\")\n",
        "d=0\n",
        "l=0\n",
        "for c in s:\n",
        "    if c.isdigit():\n",
        "        d=d+1\n",
        "    elif c.isalpha():\n",
        "        l=l+1\n",
        "    else:\n",
        "        pass\n",
        "print(\"Letters\", l)\n",
        "print(\"Digits\", d)"
      ],
      "metadata": {
        "colab": {
          "base_uri": "https://localhost:8080/"
        },
        "id": "lC2siV1NnIL_",
        "outputId": "b364ff81-2ea1-4afa-e829-d7fd81ae69f5"
      },
      "execution_count": null,
      "outputs": [
        {
          "output_type": "stream",
          "name": "stdout",
          "text": [
            "Input a string1234yyryr\n",
            "Letters 5\n",
            "Digits 4\n"
          ]
        }
      ]
    },
    {
      "cell_type": "code",
      "source": [
        "# 17\n",
        "import random\n",
        "all_combinations=[]\n",
        "\n",
        "def get_permutation(string_inp):\n",
        "  list_final=[]\n",
        "  for k in range(len(string_inp)):\n",
        "    set_temp=set()\n",
        "    words=[c for c in string_inp]\n",
        "    words.pop(k)\n",
        "    while len(set_temp)!=len(string_inp)-1:\n",
        "      random.shuffle(words)\n",
        "      set_temp.add(string_inp[k]+\"\".join(words))\n",
        "    list_final=list_final+list(set_temp)\n",
        "  return list_final\n",
        "#{'uyyp', 'yyup', 'yuyp', 'yupy', 'upyy', 'uypy', 'pyuy', 'yypu', 'puyy', 'ypyu', 'ypuy', 'pyyu'}\n",
        "print(get_permutation('yupy'))"
      ],
      "metadata": {
        "id": "n2SDmvGBnQa-",
        "colab": {
          "base_uri": "https://localhost:8080/"
        },
        "outputId": "80e2aa01-431f-4eac-af28-8aef9bf51b39"
      },
      "execution_count": null,
      "outputs": [
        {
          "output_type": "stream",
          "name": "stdout",
          "text": [
            "['yypu', 'ypyu', 'yupy', 'upyy', 'uyyp', 'uypy', 'pyuy', 'puyy', 'pyyu', 'yypu', 'yyup', 'yuyp']\n"
          ]
        }
      ]
    },
    {
      "cell_type": "code",
      "source": [
        "print(\"Input lengths of the triangle sides: \")\n",
        "x = int(input(\"x: \"))\n",
        "y = int(input(\"y: \"))\n",
        "z = int(input(\"z: \"))\n",
        "\n",
        "if x == y == z:\n",
        "\tprint(\"Equilateral triangle\")\n",
        "elif x==y or y==z or z==x: # or any true it gives true\n",
        "\tprint(\"isosceles triangle\")\n",
        "else:\n",
        "\tprint(\"Scalene triangle\")"
      ],
      "metadata": {
        "id": "9uRxHGB2nel2"
      },
      "execution_count": null,
      "outputs": []
    },
    {
      "cell_type": "code",
      "source": [
        "year = int(input(\"Input a year: \"))\n",
        "day = int(input(\"Input a day [1-31]: \"))\n",
        "month = int(input(\"Input a month [1-12]: \"))\n",
        "\n",
        "# feb has 29 days in leap year and 28 otherwise\n",
        "if (year % 400 == 0):\n",
        "    leap_year = True\n",
        "elif (year % 100 == 0):\n",
        "    leap_year = False\n",
        "elif (year % 4 == 0):\n",
        "    leap_year = True\n",
        "else:\n",
        "    leap_year = False\n",
        "\n",
        "if month in (1, 3, 5, 7, 8, 10, 12):\n",
        "    month_length = 31\n",
        "elif month == 2:\n",
        "    if leap_year:\n",
        "        month_length = 29\n",
        "    else:\n",
        "        month_length = 28\n",
        "else:\n",
        "    month_length = 30\n",
        "\n",
        "if day < month_length:\n",
        "    day += 1\n",
        "else:\n",
        "    day = 1\n",
        "    if month == 12:\n",
        "        month = 1\n",
        "        year += 1\n",
        "    else:\n",
        "        month += 1\n",
        "print(\"The next date is [yyyy-mm-dd] %d-%d-%d.\" % (year, month, day))"
      ],
      "metadata": {
        "id": "GSviUbgGnkv-",
        "colab": {
          "base_uri": "https://localhost:8080/"
        },
        "outputId": "eb30c71c-3bd6-4206-f027-b5152cbf06b9"
      },
      "execution_count": null,
      "outputs": [
        {
          "output_type": "stream",
          "name": "stdout",
          "text": [
            "Input a year: 2016\n",
            "Input a day [1-31]: 28\n",
            "Input a month [1-12]: 2\n",
            "The next date is [yyyy-mm-dd] 2016-2-29.\n"
          ]
        }
      ]
    },
    {
      "cell_type": "code",
      "source": [
        "36%24"
      ],
      "metadata": {
        "colab": {
          "base_uri": "https://localhost:8080/"
        },
        "id": "KzSGixkMzCfE",
        "outputId": "ad126755-0c18-4e1e-8cbb-4b768aaabebe"
      },
      "execution_count": null,
      "outputs": [
        {
          "output_type": "execute_result",
          "data": {
            "text/plain": [
              "12"
            ]
          },
          "metadata": {},
          "execution_count": 30
        }
      ]
    },
    {
      "cell_type": "code",
      "source": [
        "\n",
        "strig1=\"yupy\"\n",
        "words=[c for c in strig1]\n",
        "random.shuffle(words)\n",
        "words"
      ],
      "metadata": {
        "colab": {
          "base_uri": "https://localhost:8080/"
        },
        "id": "eXkuxHxC6jVU",
        "outputId": "9f0acc77-cc1a-4021-c09b-bb4b813957c7"
      },
      "execution_count": null,
      "outputs": [
        {
          "output_type": "execute_result",
          "data": {
            "text/plain": [
              "['u', 'p', 'y', 'y']"
            ]
          },
          "metadata": {},
          "execution_count": 21
        }
      ]
    },
    {
      "cell_type": "code",
      "source": [
        "strig=\"abcd\"\n",
        "words=[]\n",
        "for k in strig:\n",
        "  words.append(k)"
      ],
      "metadata": {
        "colab": {
          "base_uri": "https://localhost:8080/"
        },
        "id": "w5HAKV9f7A-0",
        "outputId": "60a5800b-247f-464f-95c5-bc58f23bedae"
      },
      "execution_count": null,
      "outputs": [
        {
          "output_type": "stream",
          "name": "stdout",
          "text": [
            "['a', 'b', 'c', 'd']\n"
          ]
        }
      ]
    },
    {
      "cell_type": "code",
      "source": [
        "# 1st case study pandas\n",
        "import os\n",
        "import pandas as pd\n",
        "\n",
        "if os.path.exists(\"abcd.csv\"):\n",
        "  df=pd.read_csv(\"abcd.csv\")\n",
        "  all_values=list(df[\"sum\"])\n",
        "  print(\"ALL VALUES \",all_values)\n",
        "  new_element=0\n",
        "  for k in all_values:\n",
        "    new_element=new_element+k\n",
        "  all_values.append(new_element)\n",
        "  dict_sum={\"sum\":all_values}\n",
        "  new_df=pd.DataFrame(dict_sum)\n",
        "  new_df.to_csv(\"abcd.csv\",index=False)\n",
        "else:\n",
        "  df=pd.DataFrame({\"sum\":[1]})\n",
        "  df.to_csv(\"abcd.csv\",index=False)\n",
        "\n"
      ],
      "metadata": {
        "id": "2xrgbSHv-sHC",
        "colab": {
          "base_uri": "https://localhost:8080/",
          "height": 444
        },
        "outputId": "a070e54d-046f-4a08-daa5-2f17375fdfb1"
      },
      "execution_count": null,
      "outputs": [
        {
          "output_type": "stream",
          "name": "stdout",
          "text": [
            "ALL VALUES  [1]\n",
            "[1, 1]\n"
          ]
        },
        {
          "output_type": "error",
          "ename": "ValueError",
          "evalue": "ignored",
          "traceback": [
            "\u001b[0;31m---------------------------------------------------------------------------\u001b[0m",
            "\u001b[0;31mValueError\u001b[0m                                Traceback (most recent call last)",
            "\u001b[0;32m<ipython-input-20-b479171ebb34>\u001b[0m in \u001b[0;36m<cell line: 4>\u001b[0;34m()\u001b[0m\n\u001b[1;32m     13\u001b[0m   \u001b[0;31m#pd.DataFrame({\"sum\":all_values}).to_csv(\"abcd.csv\",index=False)\u001b[0m\u001b[0;34m\u001b[0m\u001b[0;34m\u001b[0m\u001b[0m\n\u001b[1;32m     14\u001b[0m   \u001b[0mprint\u001b[0m\u001b[0;34m(\u001b[0m\u001b[0mall_values\u001b[0m\u001b[0;34m)\u001b[0m\u001b[0;34m\u001b[0m\u001b[0;34m\u001b[0m\u001b[0m\n\u001b[0;32m---> 15\u001b[0;31m   \u001b[0mdf\u001b[0m\u001b[0;34m[\u001b[0m\u001b[0;34m'sum'\u001b[0m\u001b[0;34m]\u001b[0m\u001b[0;34m=\u001b[0m\u001b[0mall_values\u001b[0m\u001b[0;34m\u001b[0m\u001b[0;34m\u001b[0m\u001b[0m\n\u001b[0m\u001b[1;32m     16\u001b[0m   \u001b[0mdf\u001b[0m\u001b[0;34m.\u001b[0m\u001b[0mto_csv\u001b[0m\u001b[0;34m(\u001b[0m\u001b[0;34m\"abcd.csv\"\u001b[0m\u001b[0;34m,\u001b[0m\u001b[0mindex\u001b[0m\u001b[0;34m=\u001b[0m\u001b[0;32mFalse\u001b[0m\u001b[0;34m)\u001b[0m\u001b[0;34m\u001b[0m\u001b[0;34m\u001b[0m\u001b[0m\n\u001b[1;32m     17\u001b[0m \u001b[0;32melse\u001b[0m\u001b[0;34m:\u001b[0m\u001b[0;34m\u001b[0m\u001b[0;34m\u001b[0m\u001b[0m\n",
            "\u001b[0;32m/usr/local/lib/python3.10/dist-packages/pandas/core/frame.py\u001b[0m in \u001b[0;36m__setitem__\u001b[0;34m(self, key, value)\u001b[0m\n\u001b[1;32m   3978\u001b[0m         \u001b[0;32melse\u001b[0m\u001b[0;34m:\u001b[0m\u001b[0;34m\u001b[0m\u001b[0;34m\u001b[0m\u001b[0m\n\u001b[1;32m   3979\u001b[0m             \u001b[0;31m# set column\u001b[0m\u001b[0;34m\u001b[0m\u001b[0;34m\u001b[0m\u001b[0m\n\u001b[0;32m-> 3980\u001b[0;31m             \u001b[0mself\u001b[0m\u001b[0;34m.\u001b[0m\u001b[0m_set_item\u001b[0m\u001b[0;34m(\u001b[0m\u001b[0mkey\u001b[0m\u001b[0;34m,\u001b[0m \u001b[0mvalue\u001b[0m\u001b[0;34m)\u001b[0m\u001b[0;34m\u001b[0m\u001b[0;34m\u001b[0m\u001b[0m\n\u001b[0m\u001b[1;32m   3981\u001b[0m \u001b[0;34m\u001b[0m\u001b[0m\n\u001b[1;32m   3982\u001b[0m     \u001b[0;32mdef\u001b[0m \u001b[0m_setitem_slice\u001b[0m\u001b[0;34m(\u001b[0m\u001b[0mself\u001b[0m\u001b[0;34m,\u001b[0m \u001b[0mkey\u001b[0m\u001b[0;34m:\u001b[0m \u001b[0mslice\u001b[0m\u001b[0;34m,\u001b[0m \u001b[0mvalue\u001b[0m\u001b[0;34m)\u001b[0m\u001b[0;34m:\u001b[0m\u001b[0;34m\u001b[0m\u001b[0;34m\u001b[0m\u001b[0m\n",
            "\u001b[0;32m/usr/local/lib/python3.10/dist-packages/pandas/core/frame.py\u001b[0m in \u001b[0;36m_set_item\u001b[0;34m(self, key, value)\u001b[0m\n\u001b[1;32m   4172\u001b[0m         \u001b[0mensure\u001b[0m \u001b[0mhomogeneity\u001b[0m\u001b[0;34m.\u001b[0m\u001b[0;34m\u001b[0m\u001b[0;34m\u001b[0m\u001b[0m\n\u001b[1;32m   4173\u001b[0m         \"\"\"\n\u001b[0;32m-> 4174\u001b[0;31m         \u001b[0mvalue\u001b[0m \u001b[0;34m=\u001b[0m \u001b[0mself\u001b[0m\u001b[0;34m.\u001b[0m\u001b[0m_sanitize_column\u001b[0m\u001b[0;34m(\u001b[0m\u001b[0mvalue\u001b[0m\u001b[0;34m)\u001b[0m\u001b[0;34m\u001b[0m\u001b[0;34m\u001b[0m\u001b[0m\n\u001b[0m\u001b[1;32m   4175\u001b[0m \u001b[0;34m\u001b[0m\u001b[0m\n\u001b[1;32m   4176\u001b[0m         if (\n",
            "\u001b[0;32m/usr/local/lib/python3.10/dist-packages/pandas/core/frame.py\u001b[0m in \u001b[0;36m_sanitize_column\u001b[0;34m(self, value)\u001b[0m\n\u001b[1;32m   4913\u001b[0m \u001b[0;34m\u001b[0m\u001b[0m\n\u001b[1;32m   4914\u001b[0m         \u001b[0;32mif\u001b[0m \u001b[0mis_list_like\u001b[0m\u001b[0;34m(\u001b[0m\u001b[0mvalue\u001b[0m\u001b[0;34m)\u001b[0m\u001b[0;34m:\u001b[0m\u001b[0;34m\u001b[0m\u001b[0;34m\u001b[0m\u001b[0m\n\u001b[0;32m-> 4915\u001b[0;31m             \u001b[0mcom\u001b[0m\u001b[0;34m.\u001b[0m\u001b[0mrequire_length_match\u001b[0m\u001b[0;34m(\u001b[0m\u001b[0mvalue\u001b[0m\u001b[0;34m,\u001b[0m \u001b[0mself\u001b[0m\u001b[0;34m.\u001b[0m\u001b[0mindex\u001b[0m\u001b[0;34m)\u001b[0m\u001b[0;34m\u001b[0m\u001b[0;34m\u001b[0m\u001b[0m\n\u001b[0m\u001b[1;32m   4916\u001b[0m         \u001b[0;32mreturn\u001b[0m \u001b[0msanitize_array\u001b[0m\u001b[0;34m(\u001b[0m\u001b[0mvalue\u001b[0m\u001b[0;34m,\u001b[0m \u001b[0mself\u001b[0m\u001b[0;34m.\u001b[0m\u001b[0mindex\u001b[0m\u001b[0;34m,\u001b[0m \u001b[0mcopy\u001b[0m\u001b[0;34m=\u001b[0m\u001b[0;32mTrue\u001b[0m\u001b[0;34m,\u001b[0m \u001b[0mallow_2d\u001b[0m\u001b[0;34m=\u001b[0m\u001b[0;32mTrue\u001b[0m\u001b[0;34m)\u001b[0m\u001b[0;34m\u001b[0m\u001b[0;34m\u001b[0m\u001b[0m\n\u001b[1;32m   4917\u001b[0m \u001b[0;34m\u001b[0m\u001b[0m\n",
            "\u001b[0;32m/usr/local/lib/python3.10/dist-packages/pandas/core/common.py\u001b[0m in \u001b[0;36mrequire_length_match\u001b[0;34m(data, index)\u001b[0m\n\u001b[1;32m    569\u001b[0m     \"\"\"\n\u001b[1;32m    570\u001b[0m     \u001b[0;32mif\u001b[0m \u001b[0mlen\u001b[0m\u001b[0;34m(\u001b[0m\u001b[0mdata\u001b[0m\u001b[0;34m)\u001b[0m \u001b[0;34m!=\u001b[0m \u001b[0mlen\u001b[0m\u001b[0;34m(\u001b[0m\u001b[0mindex\u001b[0m\u001b[0;34m)\u001b[0m\u001b[0;34m:\u001b[0m\u001b[0;34m\u001b[0m\u001b[0;34m\u001b[0m\u001b[0m\n\u001b[0;32m--> 571\u001b[0;31m         raise ValueError(\n\u001b[0m\u001b[1;32m    572\u001b[0m             \u001b[0;34m\"Length of values \"\u001b[0m\u001b[0;34m\u001b[0m\u001b[0;34m\u001b[0m\u001b[0m\n\u001b[1;32m    573\u001b[0m             \u001b[0;34mf\"({len(data)}) \"\u001b[0m\u001b[0;34m\u001b[0m\u001b[0;34m\u001b[0m\u001b[0m\n",
            "\u001b[0;31mValueError\u001b[0m: Length of values (2) does not match length of index (1)"
          ]
        }
      ]
    }
  ]
}