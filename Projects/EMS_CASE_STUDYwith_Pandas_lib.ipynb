{
  "nbformat": 4,
  "nbformat_minor": 0,
  "metadata": {
    "colab": {
      "provenance": []
    },
    "kernelspec": {
      "name": "python3",
      "display_name": "Python 3"
    },
    "language_info": {
      "name": "python"
    }
  },
  "cells": [
    {
      "cell_type": "code",
      "execution_count": null,
      "metadata": {
        "id": "vG0U7lrh5W3D"
      },
      "outputs": [],
      "source": [
        "def add_employee(first_name,last_name,emp_id,salary,department):\n",
        "\n",
        "  if emp_id not in emp_id_list:\n",
        "    emp_first_name_list.append(first_name)\n",
        "    emp_last_name_list.append(last_name)\n",
        "    emp_id_list.append(emp_id)\n",
        "    emp_salary_list.append(salary)\n",
        "    emp_department_list.append(department)\n",
        "    print(\"Record Added Successfully\")\n",
        "  else:\n",
        "    print(\"Employee ID Already Exists Try updating the details for the Employee\")\n",
        "\n",
        "\n",
        "def remove_employee_by_id(emp_id):\n",
        "  try:\n",
        "    # .index function returns index of value in list or a error if not found\n",
        "\n",
        "    index_to_remove=emp_id_list.index(emp_id)\n",
        "    emp_first_name_list.pop(index_to_remove)\n",
        "    emp_last_name_list.pop(index_to_remove)\n",
        "    emp_id_list.pop(index_to_remove)\n",
        "    emp_salary_list.pop(index_to_remove)\n",
        "    emp_department_list.pop(index_to_remove)\n",
        "    print(\"Employee Removed Successfully !!\")\n",
        "  except :\n",
        "    print(\"Id Doesnt not Exists Please verify the input once\")\n",
        "\n",
        "def find_record_by_id(emp_id):\n",
        "  try:\n",
        "    index_to_return=emp_id_list.index(emp_id)\n",
        "    return index_to_return\n",
        "  except:\n",
        "    return -1\n",
        "\n",
        "def update_details_by_id(index_to_replace,first_name,last_name,salary,department):\n",
        "  emp_first_name_list[index_to_replace]=first_name\n",
        "  emp_last_name_list[index_to_replace]=last_name\n",
        "  emp_salary_list[index_to_replace]=salary\n",
        "  emp_department_list[index_to_replace]=department\n",
        "  print(\"Recorded Updated Successfully \\n\")\n",
        "\n",
        "def print_record_by_id(emp_id):\n",
        "  try:\n",
        "    index_to_print=emp_id_list.index(emp_id)\n",
        "    print(\"EMPLOYEE FIRST NAME :-\",emp_first_name_list[index_to_print])\n",
        "    print(\"EMPLOYEE LAST NAME :-\",emp_last_name_list[index_to_print])\n",
        "    print(\"EMPLOYEE ID :-\",emp_id_list[index_to_print])\n",
        "    print(\"EMPLOYEE SALARY :-\",emp_salary_list[index_to_print])\n",
        "    print(\"EMPLOYEE Department NAME :-\",emp_department_list[index_to_print])\n",
        "    print(\"\")\n",
        "  except:\n",
        "    print(\"ID DOES NOT EXISTS \\n\")\n",
        "\n",
        "def remove_by_name(first_name,last_name):\n",
        "  all_records=[]\n",
        "  for k in range(len(emp_first_name_list)):\n",
        "    if emp_first_name_list[k]==first_name:\n",
        "      if emp_last_name_list[k]==last_name:\n",
        "        all_records.append(k)\n",
        "\n",
        "  if len(all_records)>1:\n",
        "    print(\"Found Multiple IDS Please confirm which id to remove\")\n",
        "    for c in all_records:\n",
        "      print(\"ID :-\",emp_id_list[c])\n",
        "    get_id_to_remove=input(\"Please enter the Employee ID to Remove :- \")\n",
        "    remove_employee_by_id(get_id_to_remove)\n",
        "\n",
        "  elif len(all_records)==1:\n",
        "    # 1 record in all_records list\n",
        "    get_id_to_remove=emp_id_list[all_records[0]]\n",
        "    remove_employee_by_id(get_id_to_remove)\n",
        "  else:\n",
        "    print(\"No Such Record Exists please check the input entered\")"
      ]
    },
    {
      "cell_type": "code",
      "source": [
        "user_input=-1\n",
        "emp_first_name_list=[]\n",
        "emp_last_name_list=[]\n",
        "emp_id_list=[]\n",
        "emp_salary_list=[]\n",
        "emp_department_list=[]\n",
        "\n",
        "while user_input!=7:\n",
        "\n",
        "  print(\"\\n\")\n",
        "  print(\"1) Add Employee\")\n",
        "  print(\"2) Remove Employee by id \")\n",
        "  print(\"3) Remove Employee by name \")\n",
        "  print(\"4) Update Details of Employee by ID \")\n",
        "  print(\"5) Display details of Employee by ID \")\n",
        "  print(\"6) Display details of ALL Employee\")\n",
        "  print(\"7) Exit the EMS system\")\n",
        "\n",
        "  user_input=int(input(\"Please enter a Choice between 1-7 :- \"))\n",
        "  \n",
        "  if user_input==1:\n",
        "\n",
        "    first_name= input(\"Please enter the first name \")\n",
        "    last_name= input(\"Please enter the last name \")\n",
        "    salary= input(\"Please enter the salary \")\n",
        "    empy_id= input(\"Please enter the Employee ID \")\n",
        "    department= input(\"Please enter the Department \")\n",
        "    add_employee(first_name,last_name,empy_id,salary,department)\n",
        "    print(\"Confirmation that record is added\",emp_first_name_list)\n",
        "  \n",
        "  elif user_input==2:\n",
        "    empy_id= input(\"Please enter the Employee ID to Remove :- \")\n",
        "    remove_employee_by_id(empy_id)\n",
        "\n",
        "  elif user_input==3:\n",
        "    first_name= input(\"Please enter the first name of the employee to remove \")\n",
        "    last_name= input(\"Please enter the last name of the employee to remove\")\n",
        "    remove_by_name(first_name,last_name)\n",
        "    \n",
        "  elif user_input==4:\n",
        "    empy_id= input(\"Please enter the Employee ID to Update :- \")\n",
        "    index_to_update=find_record_by_id(emp_id)\n",
        "    if index_to_update!=-1:\n",
        "      first_name= input(\"Please enter the first name \")\n",
        "      last_name= input(\"Please enter the last name \")\n",
        "      salary= input(\"Please enter the salary \")\n",
        "      department= input(\"Please enter the Department \")\n",
        "      update_details_by_id(index_to_update,first_name,last_name,salary,department)\n",
        "    else:\n",
        "      print(\"No such Id Exists Check the input once\")\n",
        "\n",
        "  elif user_input==5:\n",
        "    empy_id= input(\"Please enter the Employee ID you want to check details for :- \")\n",
        "    print_record_by_id(empy_id)\n",
        "\n",
        "  elif user_input==6:\n",
        "    for k in emp_id_list:\n",
        "      print_record_by_id(k)\n",
        "\n",
        "  elif user_input==7:\n",
        "    print(\"Bye!!\")\n",
        "import csv\n",
        "import os\n",
        "\n",
        "# Function to check if a CSV file exists\n",
        "def csv_exists(file_path):\n",
        "    return os.path.isfile(file_path)\n",
        "\n",
        "# Function to load records from CSV file into lists\n",
        "def load_records_from_csv(file_path):\n",
        "    records = []\n",
        "    with open(file_path, 'r') as csv_file:\n",
        "        reader = csv.reader(csv_file)\n",
        "        for row in reader:\n",
        "            records.append(row)\n",
        "    return records\n",
        "\n",
        "# Function to save records from lists to CSV file\n",
        "def save_records_to_csv(file_path, records):\n",
        "    with open(file_path, 'w', newline='') as csv_file:\n",
        "        writer = csv.writer(csv_file)\n",
        "        writer.writerows(records)\n",
        "\n",
        "# Set the path to the CSV file\n",
        "csv_file_path = \"path/to/your/file.csv\"\n",
        "\n",
        "# Check if the CSV file exists\n",
        "if csv_exists(csv_file_path):\n",
        "    # Load existing records from CSV\n",
        "    existing_records = load_records_from_csv(csv_file_path)\n",
        "    print(\"Previous records loaded.\")\n",
        "else:\n",
        "    existing_records = []\n",
        "    print(\"No previous records found.\")\n",
        "\n",
        "# Continue with your case study logic, updating the lists as needed\n",
        "\n",
        "# When the user chooses the 7 option, save the records to CSV\n",
        "if user_input == 7:\n",
        "    save_records_to_csv(csv_file_path, existing_records)\n",
        "    print(\"Records saved to CSV.\")"
      ],
      "metadata": {
        "id": "YgJZd9Lp5XH6",
        "colab": {
          "base_uri": "https://localhost:8080/",
          "height": 549
        },
        "outputId": "f0b312cb-97df-4470-c321-91dafd9d8bc8"
      },
      "execution_count": 16,
      "outputs": [
        {
          "output_type": "stream",
          "name": "stdout",
          "text": [
            "\n",
            "\n",
            "1) Add Employee\n",
            "2) Remove Employee by id \n",
            "3) Remove Employee by name \n",
            "4) Update Details of Employee by ID \n",
            "5) Display details of Employee by ID \n",
            "6) Display details of ALL Employee\n",
            "7) Exit the EMS system\n",
            "Please enter a Choice between 1-7 :- 7\n",
            "Bye!!\n",
            "No previous records found.\n"
          ]
        },
        {
          "output_type": "error",
          "ename": "FileNotFoundError",
          "evalue": "ignored",
          "traceback": [
            "\u001b[0;31m---------------------------------------------------------------------------\u001b[0m",
            "\u001b[0;31mFileNotFoundError\u001b[0m                         Traceback (most recent call last)",
            "\u001b[0;32m<ipython-input-16-f9319b9bf42f>\u001b[0m in \u001b[0;36m<cell line: 99>\u001b[0;34m()\u001b[0m\n\u001b[1;32m     98\u001b[0m \u001b[0;31m# When the user chooses the \"Bye!\" option, save the records to CSV\u001b[0m\u001b[0;34m\u001b[0m\u001b[0;34m\u001b[0m\u001b[0m\n\u001b[1;32m     99\u001b[0m \u001b[0;32mif\u001b[0m \u001b[0muser_input\u001b[0m \u001b[0;34m==\u001b[0m \u001b[0;36m7\u001b[0m\u001b[0;34m:\u001b[0m\u001b[0;34m\u001b[0m\u001b[0;34m\u001b[0m\u001b[0m\n\u001b[0;32m--> 100\u001b[0;31m     \u001b[0msave_records_to_csv\u001b[0m\u001b[0;34m(\u001b[0m\u001b[0mcsv_file_path\u001b[0m\u001b[0;34m,\u001b[0m \u001b[0mexisting_records\u001b[0m\u001b[0;34m)\u001b[0m\u001b[0;34m\u001b[0m\u001b[0;34m\u001b[0m\u001b[0m\n\u001b[0m\u001b[1;32m    101\u001b[0m     \u001b[0mprint\u001b[0m\u001b[0;34m(\u001b[0m\u001b[0;34m\"Records saved to CSV.\"\u001b[0m\u001b[0;34m)\u001b[0m\u001b[0;34m\u001b[0m\u001b[0;34m\u001b[0m\u001b[0m\n",
            "\u001b[0;32m<ipython-input-16-f9319b9bf42f>\u001b[0m in \u001b[0;36msave_records_to_csv\u001b[0;34m(file_path, records)\u001b[0m\n\u001b[1;32m     78\u001b[0m \u001b[0;31m# Function to save records from lists to CSV file\u001b[0m\u001b[0;34m\u001b[0m\u001b[0;34m\u001b[0m\u001b[0m\n\u001b[1;32m     79\u001b[0m \u001b[0;32mdef\u001b[0m \u001b[0msave_records_to_csv\u001b[0m\u001b[0;34m(\u001b[0m\u001b[0mfile_path\u001b[0m\u001b[0;34m,\u001b[0m \u001b[0mrecords\u001b[0m\u001b[0;34m)\u001b[0m\u001b[0;34m:\u001b[0m\u001b[0;34m\u001b[0m\u001b[0;34m\u001b[0m\u001b[0m\n\u001b[0;32m---> 80\u001b[0;31m     \u001b[0;32mwith\u001b[0m \u001b[0mopen\u001b[0m\u001b[0;34m(\u001b[0m\u001b[0mfile_path\u001b[0m\u001b[0;34m,\u001b[0m \u001b[0;34m'w'\u001b[0m\u001b[0;34m,\u001b[0m \u001b[0mnewline\u001b[0m\u001b[0;34m=\u001b[0m\u001b[0;34m''\u001b[0m\u001b[0;34m)\u001b[0m \u001b[0;32mas\u001b[0m \u001b[0mcsv_file\u001b[0m\u001b[0;34m:\u001b[0m\u001b[0;34m\u001b[0m\u001b[0;34m\u001b[0m\u001b[0m\n\u001b[0m\u001b[1;32m     81\u001b[0m         \u001b[0mwriter\u001b[0m \u001b[0;34m=\u001b[0m \u001b[0mcsv\u001b[0m\u001b[0;34m.\u001b[0m\u001b[0mwriter\u001b[0m\u001b[0;34m(\u001b[0m\u001b[0mcsv_file\u001b[0m\u001b[0;34m)\u001b[0m\u001b[0;34m\u001b[0m\u001b[0;34m\u001b[0m\u001b[0m\n\u001b[1;32m     82\u001b[0m         \u001b[0mwriter\u001b[0m\u001b[0;34m.\u001b[0m\u001b[0mwriterows\u001b[0m\u001b[0;34m(\u001b[0m\u001b[0mrecords\u001b[0m\u001b[0;34m)\u001b[0m\u001b[0;34m\u001b[0m\u001b[0;34m\u001b[0m\u001b[0m\n",
            "\u001b[0;31mFileNotFoundError\u001b[0m: [Errno 2] No such file or directory: 'path/to/your/file.csv'"
          ]
        }
      ]
    },
    {
      "cell_type": "code",
      "source": [
        "import os\n",
        "\n",
        "def csv_exists(file_path):\n",
        "    return os.path.isfile(file_path)\n",
        "\n",
        "# Set the path to the CSV file\n",
        "csv_file_path = \"Ems_case_study_csv.csv\"\n",
        "\n",
        "# Check if the CSV file exists\n",
        "if csv_exists(csv_file_path):\n",
        "    print(\"CSV file exists. Previous records are available.\")\n",
        "else:\n",
        "    print(\"CSV file does not exist. No previous records.\")\n"
      ],
      "metadata": {
        "colab": {
          "base_uri": "https://localhost:8080/"
        },
        "id": "DBnQiKt_Iv97",
        "outputId": "969a748b-6fda-492e-d4ce-da8f625944eb"
      },
      "execution_count": 14,
      "outputs": [
        {
          "output_type": "stream",
          "name": "stdout",
          "text": [
            "CSV file does not exist. No previous records.\n"
          ]
        }
      ]
    },
    {
      "cell_type": "code",
      "source": [
        "# remove employee by id\n",
        "# find if the id exists in the list emp_id_list, if it exists find the index and remove from all lists\n",
        "# if not exists tell user no such ID exists\n",
        "\n",
        "\n",
        "# Update Details of Employee by ID\n",
        "# find the id index in the list\n",
        "# ask for 4 details except id that is firstname,lastname,salary,department\n",
        "# update these details at thay specific index\n",
        "\n",
        "# print details by ID\n",
        "# find index of the id and print details of all parameters"
      ],
      "metadata": {
        "id": "jr9fEH-f5j0T"
      },
      "execution_count": null,
      "outputs": []
    },
    {
      "cell_type": "code",
      "source": [
        "# 5 parameters firstname,lastname,salary,id,department\n",
        "\n",
        "# 1 Add employee (firstname,lastname,salary,id,department)\n",
        "# 2 remove employee by id # 7 employees added find the correct id and remove # 6 will remain\n",
        "# 3 remove employee by name # think about how this can be done\n",
        "# 4 Update Details\n",
        "# 5 print details by ID\n",
        "# 6 print details of all employees\n",
        "# 7 exit"
      ],
      "metadata": {
        "id": "VWj52mZz5nDy"
      },
      "execution_count": null,
      "outputs": []
    },
    {
      "cell_type": "code",
      "source": [],
      "metadata": {
        "id": "n9eNcgZd2Vmh"
      },
      "execution_count": null,
      "outputs": []
    },
    {
      "cell_type": "code",
      "source": [
        "# Remove Employee by name \n",
        "# at first two inputs first name and last name\n",
        "# if 1 record with first and last name found remove directly\n",
        "# if no matching record show user wrong input\n",
        "# match all the records with same name\n",
        "# print out the ids of employees with same name\n",
        "# ask for id which needs to be removed\n",
        "# Both Rohit sharma records and prints their IDS and ask which id is to be removed"
      ],
      "metadata": {
        "id": "Lbjb07wPADRX"
      },
      "execution_count": null,
      "outputs": []
    }
  ]
}